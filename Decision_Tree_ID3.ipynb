{
  "nbformat": 4,
  "nbformat_minor": 0,
  "metadata": {
    "colab": {
      "name": "Decision_Tree_ID3.ipynb",
      "provenance": [],
      "authorship_tag": "ABX9TyOItEYPn4WMk1qA8zRcRDn2",
      "include_colab_link": true
    },
    "kernelspec": {
      "name": "python3",
      "display_name": "Python 3"
    }
  },
  "cells": [
    {
      "cell_type": "markdown",
      "metadata": {
        "id": "view-in-github",
        "colab_type": "text"
      },
      "source": [
        "<a href=\"https://colab.research.google.com/github/analystanand/Machine-Learning/blob/master/Decision_Tree_ID3.ipynb\" target=\"_parent\"><img src=\"https://colab.research.google.com/assets/colab-badge.svg\" alt=\"Open In Colab\"/></a>"
      ]
    },
    {
      "cell_type": "markdown",
      "metadata": {
        "id": "RIYWpRfTmHxB",
        "colab_type": "text"
      },
      "source": [
        "# Decision Tree\n",
        "\n",
        "Implementation of ID3\n",
        "\n",
        "### Dataset https://archive.ics.uci.edu/ml/datasets/MONK's+Problems\n",
        "\n",
        "1. Download the data and place it in current directory"
      ]
    },
    {
      "cell_type": "code",
      "metadata": {
        "id": "gTh6gHtEhlBW",
        "colab_type": "code",
        "colab": {}
      },
      "source": [
        "import numpy as np\n",
        "from sklearn.metrics import confusion_matrix\n",
        "import matplotlib.pyplot as plt"
      ],
      "execution_count": 0,
      "outputs": []
    },
    {
      "cell_type": "code",
      "metadata": {
        "id": "lBzf_rhRhtm-",
        "colab_type": "code",
        "colab": {}
      },
      "source": [
        "def partition(x):\n",
        "    \"\"\"\n",
        "    Partition the column vector x into subsets indexed by its unique values (v1, ... vk)\n",
        "    Returns a dictionary of the form\n",
        "    { v1: indices of x == v1,\n",
        "      v2: indices of x == v2,\n",
        "      ...\n",
        "      vk: indices of x == vk }, where [v1, ... vk] are all the unique values in the vector z.\n",
        "    \"\"\"\n",
        "    res = {i: [] for i in set(x)}\n",
        "    for index, i in enumerate(x):\n",
        "        res[i].append(index)\n",
        "    return res"
      ],
      "execution_count": 0,
      "outputs": []
    },
    {
      "cell_type": "code",
      "metadata": {
        "id": "t3qRaFZmhzGS",
        "colab_type": "code",
        "colab": {}
      },
      "source": [
        "def entropy(y):\n",
        "    \"\"\"\n",
        "    Compute the entropy of a vector y by considering the counts of the unique values (v1, ... vk), in z\n",
        "\n",
        "    Returns the entropy of z: H(z) = p(z=v1) log2(p(z=v1)) + ... + p(z=vk) log2(p(z=vk))\n",
        "    \"\"\"\n",
        "    rep_dict = partition(y)\n",
        "    H_z = 0\n",
        "    for k, v in rep_dict.items():\n",
        "        p = len(v) / len(y)\n",
        "        H_z += -p * np.log2(p)\n",
        "    return H_z\n"
      ],
      "execution_count": 0,
      "outputs": []
    },
    {
      "cell_type": "code",
      "metadata": {
        "id": "KJhhoCAJh0-r",
        "colab_type": "code",
        "colab": {}
      },
      "source": [
        "def mutual_information(x, y):\n",
        "    \"\"\"\n",
        "    Compute the mutual information between a data column (x) and the labels (y). The data column is a single attribute\n",
        "    over all the examples (n x 1). Mutual information is the difference between the entropy BEFORE the split set, and\n",
        "    the weighted-average entropy of EACH possible split.\n",
        "\n",
        "    Returns the mutual information: I(x, y) = H(y) - H(y | x)\n",
        "    \"\"\"\n",
        "    H_y = entropy(y)\n",
        "    feature_partition = partition(x)\n",
        "    H_y_x = 0\n",
        "    for k, v in feature_partition.items():\n",
        "        weightage = len(v) / len(y)\n",
        "        H_y_x += weightage * entropy([y[k] for k in v])\n",
        "    I = H_y - H_y_x\n",
        "    return I\n"
      ],
      "execution_count": 0,
      "outputs": []
    },
    {
      "cell_type": "code",
      "metadata": {
        "id": "qfodt-Seh4PF",
        "colab_type": "code",
        "colab": {}
      },
      "source": [
        "def get_majority(y):\n",
        "    res = partition(y)\n",
        "    max = 0\n",
        "    majority = 0\n",
        "    for k, v in res.items():\n",
        "        if len(v) > max:\n",
        "            max = len(v)\n",
        "            majority = k\n",
        "    return majority\n"
      ],
      "execution_count": 0,
      "outputs": []
    },
    {
      "cell_type": "code",
      "metadata": {
        "id": "9D3dVNn1h6SK",
        "colab_type": "code",
        "colab": {}
      },
      "source": [
        "def id3(x, y, attribute_value_pairs=None, depth=0, max_depth=5):\n",
        "    \"\"\"\n",
        "    Implements the classical ID3 algorithm given training data (x), training labels (y) and an array of\n",
        "    attribute-value pairs to consider.\n",
        "   \"\"\"\n",
        "    tree = {}\n",
        "    # entire set of label is pure\n",
        "    e = partition(y)\n",
        "    if len(e) == 1:\n",
        "        return y[0]\n",
        "    # attribute set is empty\n",
        "    elif not attribute_value_pairs or depth == max_depth:\n",
        "        return get_majority(y)\n",
        "    else:\n",
        "        # check best information gain among list of features\n",
        "        ml_info_gain = -1.0\n",
        "        best_feature, best_value = 0, 0\n",
        "        pos_subset_indx, neg_subset_indx = [], []\n",
        "        for i in attribute_value_pairs:\n",
        "            feature, value = i[0], i[1]\n",
        "            temp_x = [1 if k == value else 0 for k in x[:, feature]]\n",
        "            m = mutual_information(temp_x, y)\n",
        "            if m > ml_info_gain:\n",
        "                ml_info_gain = m\n",
        "                best_feature, best_value = feature, value\n",
        "                pos_subset_indx = np.where(x[:, feature] == value)[0]\n",
        "                neg_subset_indx = np.where(x[:, feature] != value)[0]\n",
        "\n",
        "        modified_x_pos = np.take(x, pos_subset_indx, axis=0)\n",
        "        modified_y_pos = np.take(y, pos_subset_indx)\n",
        "\n",
        "        modified_x_neg = np.take(x, neg_subset_indx, axis=0)\n",
        "        modified_y_neg = np.take(y, neg_subset_indx)\n",
        "\n",
        "        temp_attr_value = (best_feature, best_value)\n",
        "\n",
        "        av1, av2 = attribute_value_pairs.copy(), attribute_value_pairs.copy()\n",
        "        av1.remove(temp_attr_value)\n",
        "        av2.remove(temp_attr_value)\n",
        "        tree[(best_feature, best_value, True)] = id3(modified_x_pos,\n",
        "                                                     modified_y_pos,\n",
        "                                                     av1,\n",
        "                                                     depth + 1, max_depth)\n",
        "        tree[(best_feature, best_value, False)] = id3(modified_x_neg,\n",
        "                                                      modified_y_neg,\n",
        "                                                      av2,\n",
        "                                                      depth + 1, max_depth)\n",
        "        return tree\n",
        "\n"
      ],
      "execution_count": 0,
      "outputs": []
    },
    {
      "cell_type": "code",
      "metadata": {
        "id": "7zSLSyF-iJc6",
        "colab_type": "code",
        "colab": {}
      },
      "source": [
        "def predict_example(x, tree):\n",
        "    \"\"\"\n",
        "    Predicts the classification label for a single example x using tree by recursively descending the tree until\n",
        "    a label/leaf node is reached.\n",
        "\n",
        "    Returns the predicted label of x according to tree\n",
        "    \"\"\"\n",
        "    if tree == 0 or tree == 1 or tree==2:\n",
        "        return tree\n",
        "    attr_pair = list(tree.keys())[0]\n",
        "    key, val = attr_pair[0], attr_pair[1]\n",
        "    res = bool(x[key] == val)\n",
        "    return predict_example(x, tree[key, val, res])\n"
      ],
      "execution_count": 0,
      "outputs": []
    },
    {
      "cell_type": "code",
      "metadata": {
        "id": "mCkhR4qCiOKR",
        "colab_type": "code",
        "colab": {}
      },
      "source": [
        "def compute_error(y_true, y_pred):\n",
        "    \"\"\"\n",
        "    Computes the average error between the true labels (y_true) and the predicted labels (y_pred)\n",
        "\n",
        "    Returns the error = (1/n) * sum(y_true != y_pred)\n",
        "    \"\"\"\n",
        "    y_true = np.array(y_true)\n",
        "    y_pred = np.array(y_pred)\n",
        "    error = np.sum(y_true != y_pred)\n",
        "    error = (1 / len(y_true)) * error\n",
        "    return error\n"
      ],
      "execution_count": 0,
      "outputs": []
    },
    {
      "cell_type": "code",
      "metadata": {
        "id": "Kb-V0Qb0iS0c",
        "colab_type": "code",
        "colab": {}
      },
      "source": [
        "def visualize(tree, depth=0):\n",
        "    \"\"\"\n",
        "    Pretty prints (kinda ugly, but hey, it's better than nothing) the decision tree to the console. Use print(tree) to\n",
        "    print the raw nested dictionary representation.\n",
        "    DO NOT MODIFY THIS FUNCTION!\n",
        "    \"\"\"\n",
        "    if depth == 0:\n",
        "        print('TREE')\n",
        "\n",
        "    for index, split_criterion in enumerate(tree):\n",
        "        sub_trees = tree[split_criterion]\n",
        "\n",
        "        # Print the current node: split criterion\n",
        "        print('|\\t' * depth, end='')\n",
        "        print('+-- [SPLIT: x{0} = {1}]'.format(split_criterion[0], split_criterion[1]))\n",
        "\n",
        "        # Print the children\n",
        "        if type(sub_trees) is dict:\n",
        "            visualize(sub_trees, depth + 1)\n",
        "        else:\n",
        "            print('|\\t' * (depth + 1), end='')\n",
        "            print('+-- [LABEL = {0}]'.format(sub_trees))\n",
        "\n"
      ],
      "execution_count": 0,
      "outputs": []
    },
    {
      "cell_type": "code",
      "metadata": {
        "id": "egg79KDUiVHs",
        "colab_type": "code",
        "colab": {}
      },
      "source": [
        "def plot_graph(trn, tst, dataset):\n",
        "    plt.figure(figsize=(12,8))\n",
        "    x = [i for i in range(1, len(trn) + 1)]\n",
        "    plt.plot(x, trn, \"r\", label=\"Train\")\n",
        "    plt.plot(x, tst, \"b\", label=\"Test\")\n",
        "    plt.ylabel(\"Error Rate\")\n",
        "    plt.xlabel(\"Depth of Tree\")\n",
        "    plt.legend()\n",
        "    # plt.savefig(dataset + '.png')\n",
        "    plt.show()\n"
      ],
      "execution_count": 0,
      "outputs": []
    },
    {
      "cell_type": "code",
      "metadata": {
        "id": "353gS4GtiXZR",
        "colab_type": "code",
        "colab": {}
      },
      "source": [
        "def confuse(y, y_hat,dataset,depth):\n",
        "    cm = confusion_matrix(y,y_hat)\n",
        "    plt.clf()\n",
        "    plt.figure(figsize=(12,8))\n",
        "    plt.imshow(cm, interpolation='nearest', cmap=plt.cm.Wistia)\n",
        "    classNames = ['Negative', 'Positive']\n",
        "    plt.title(dataset+'Depth-'+str(depth))\n",
        "    plt.ylabel('True label')\n",
        "    plt.xlabel('Predicted label')\n",
        "    tick_marks = np.arange(len(classNames))\n",
        "    plt.xticks(tick_marks, classNames, rotation=45)\n",
        "    plt.yticks(tick_marks, classNames)\n",
        "    s = [['TN', 'FP'], ['FN', 'TP']]\n",
        "    for i in range(2):\n",
        "        for j in range(2):\n",
        "            plt.text(j, i, str(s[i][j]) + \" = \" + str(cm[i][j]))\n",
        "    plt.show()"
      ],
      "execution_count": 0,
      "outputs": []
    },
    {
      "cell_type": "code",
      "metadata": {
        "id": "jJgE8NqMoUk_",
        "colab_type": "code",
        "colab": {}
      },
      "source": [
        "def depth_vs_error_rate(Xtrn,ytrn,Xtst,max_depth):\n",
        "    for k in range(1, max_depth):\n",
        "        attr_value = []\n",
        "        for i in range(Xtrn.shape[1]):\n",
        "            attr_value.extend([(i, k) for k in set(Xtrn[:, i])])\n",
        "        decision_tree = id3(Xtrn, ytrn, attribute_value_pairs=attr_value, max_depth=k)\n",
        "\n",
        "\n",
        "        # visualize(decision_tree)\n",
        "        # Compute the train error\n",
        "        y_pred_trn = [predict_example(x, decision_tree) for x in Xtrn]\n",
        "        trn_err = compute_error(ytrn, y_pred_trn)\n",
        "        trn_err_list.append(trn_err)\n",
        "\n",
        "        # Compute the test error\n",
        "        y_pred_tst = [predict_example(x, decision_tree) for x in Xtst]\n",
        "\n",
        "        \n",
        "\n",
        "        tst_err = compute_error(ytst, y_pred_tst)\n",
        "        tst_err_list.append(tst_err)\n",
        "\n",
        "    plot_graph(trn_err_list, tst_err_list, dataset)"
      ],
      "execution_count": 0,
      "outputs": []
    },
    {
      "cell_type": "code",
      "metadata": {
        "id": "mjEjnHgkiZ7F",
        "colab_type": "code",
        "colab": {
          "base_uri": "https://localhost:8080/",
          "height": 560
        },
        "outputId": "5ef394c2-d9eb-4221-d1d5-f78a0dfbb2a7"
      },
      "source": [
        "  dataset = \"monks-1\"\n",
        "  train_file = 'monks-1.train'  \n",
        "  test_file = 'monks-1.test'\n",
        "  depth = 11\n",
        "\n",
        "  # Load the train data\n",
        "  M = np.genfromtxt(train_file, missing_values=0, skip_header=0, delimiter=',', dtype=int)\n",
        "  ytrn = M[:, 0]\n",
        "  Xtrn = M[:, 1:]\n",
        "\n",
        "  # Load the test data\n",
        "  M = np.genfromtxt(test_file, missing_values=0, skip_header=0, delimiter=',', dtype=int)\n",
        "  ytst = M[:, 0]\n",
        "  Xtst = M[:, 1:]\n",
        "  trn_err_list, tst_err_list = [], []\n",
        "  decision_tree = id3(Xtrn, ytrn, attribute_value_pairs=attr_value, max_depth=max_depth)\n",
        "  confuse(ytst, y_pred_tst,dataset,depth)\n",
        "  "
      ],
      "execution_count": 189,
      "outputs": [
        {
          "output_type": "display_data",
          "data": {
            "text/plain": [
              "<Figure size 432x288 with 0 Axes>"
            ]
          },
          "metadata": {
            "tags": []
          }
        },
        {
          "output_type": "display_data",
          "data": {
            "image/png": "[encoded data removed]",
            "text/plain": [
              "<Figure size 864x576 with 1 Axes>"
            ]
          },
          "metadata": {
            "tags": []
          }
        }
      ]
    },
    {
      "cell_type": "code",
      "metadata": {
        "id": "BR2EB1Gi7ueo",
        "colab_type": "code",
        "colab": {
          "base_uri": "https://localhost:8080/",
          "height": 496
        },
        "outputId": "ebe6056c-f52e-4f29-ce50-1fe3a39d332c"
      },
      "source": [
        "depth_vs_error_rate(Xtrn,ytrn,Xtst,max_depth)"
      ],
      "execution_count": 190,
      "outputs": [
        {
          "output_type": "display_data",
          "data": {
            "image/png": "[encoded data removed]",
            "text/plain": [
              "<Figure size 864x576 with 1 Axes>"
            ]
          },
          "metadata": {
            "tags": []
          }
        }
      ]
    }
  ]
}