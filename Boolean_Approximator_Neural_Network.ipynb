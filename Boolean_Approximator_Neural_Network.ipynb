{
  "nbformat": 4,
  "nbformat_minor": 0,
  "metadata": {
    "colab": {
      "name": "Boolean_Approximator_Neural_Network.ipynb",
      "provenance": [],
      "authorship_tag": "ABX9TyPCCuyR4EgOtEC+bOnSCczK",
      "include_colab_link": true
    },
    "kernelspec": {
      "name": "python3",
      "display_name": "Python 3"
    }
  },
  "cells": [
    {
      "cell_type": "markdown",
      "metadata": {
        "id": "view-in-github",
        "colab_type": "text"
      },
      "source": [
        "<a href=\"https://colab.research.google.com/github/analystanand/Machine-Learning/blob/master/Boolean_Approximator_Neural_Network.ipynb\" target=\"_parent\"><img src=\"https://colab.research.google.com/assets/colab-badge.svg\" alt=\"Open In Colab\"/></a>"
      ]
    },
    {
      "cell_type": "code",
      "metadata": {
        "id": "kG6NWgbzEIkm",
        "colab_type": "code",
        "colab": {}
      },
      "source": [
        "import pandas as pd\n",
        "import torch\n",
        "import torch.nn as nn\n",
        "import numpy as np"
      ],
      "execution_count": 0,
      "outputs": []
    },
    {
      "cell_type": "code",
      "metadata": {
        "id": "UDVvq8nuGcVF",
        "colab_type": "code",
        "colab": {}
      },
      "source": [
        "df = pd.DataFrame(columns=[\"x1\",\"x2\",\"x3\",\"y\"])\n"
      ],
      "execution_count": 0,
      "outputs": []
    },
    {
      "cell_type": "code",
      "metadata": {
        "id": "8Qou-5ejHte7",
        "colab_type": "code",
        "colab": {}
      },
      "source": [
        "df[\"x1\"] = [0,0,0,0,1,1,1,1]\n",
        "df[\"x2\"] = [0,0,1,1,0,0,1,1]\n",
        "df[\"x3\"] = [0,1,0,1,0,1,0,1]\n",
        "df[\"y\"] = [0,0,1,0,0,0,1,1]\n"
      ],
      "execution_count": 0,
      "outputs": []
    },
    {
      "cell_type": "code",
      "metadata": {
        "id": "1Xm9t2PvIcDV",
        "colab_type": "code",
        "colab": {
          "base_uri": "https://localhost:8080/",
          "height": 287
        },
        "outputId": "04a327fb-745d-47a2-da66-d810288b70bf"
      },
      "source": [
        "df.head(10)"
      ],
      "execution_count": 790,
      "outputs": [
        {
          "output_type": "execute_result",
          "data": {
            "text/html": [
              "<div>\n",
              "<style scoped>\n",
              "    .dataframe tbody tr th:only-of-type {\n",
              "        vertical-align: middle;\n",
              "    }\n",
              "\n",
              "    .dataframe tbody tr th {\n",
              "        vertical-align: top;\n",
              "    }\n",
              "\n",
              "    .dataframe thead th {\n",
              "        text-align: right;\n",
              "    }\n",
              "</style>\n",
              "<table border=\"1\" class=\"dataframe\">\n",
              "  <thead>\n",
              "    <tr style=\"text-align: right;\">\n",
              "      <th></th>\n",
              "      <th>x1</th>\n",
              "      <th>x2</th>\n",
              "      <th>x3</th>\n",
              "      <th>y</th>\n",
              "    </tr>\n",
              "  </thead>\n",
              "  <tbody>\n",
              "    <tr>\n",
              "      <th>0</th>\n",
              "      <td>0</td>\n",
              "      <td>0</td>\n",
              "      <td>0</td>\n",
              "      <td>0</td>\n",
              "    </tr>\n",
              "    <tr>\n",
              "      <th>1</th>\n",
              "      <td>0</td>\n",
              "      <td>0</td>\n",
              "      <td>1</td>\n",
              "      <td>0</td>\n",
              "    </tr>\n",
              "    <tr>\n",
              "      <th>2</th>\n",
              "      <td>0</td>\n",
              "      <td>1</td>\n",
              "      <td>0</td>\n",
              "      <td>1</td>\n",
              "    </tr>\n",
              "    <tr>\n",
              "      <th>3</th>\n",
              "      <td>0</td>\n",
              "      <td>1</td>\n",
              "      <td>1</td>\n",
              "      <td>0</td>\n",
              "    </tr>\n",
              "    <tr>\n",
              "      <th>4</th>\n",
              "      <td>1</td>\n",
              "      <td>0</td>\n",
              "      <td>0</td>\n",
              "      <td>0</td>\n",
              "    </tr>\n",
              "    <tr>\n",
              "      <th>5</th>\n",
              "      <td>1</td>\n",
              "      <td>0</td>\n",
              "      <td>1</td>\n",
              "      <td>0</td>\n",
              "    </tr>\n",
              "    <tr>\n",
              "      <th>6</th>\n",
              "      <td>1</td>\n",
              "      <td>1</td>\n",
              "      <td>0</td>\n",
              "      <td>1</td>\n",
              "    </tr>\n",
              "    <tr>\n",
              "      <th>7</th>\n",
              "      <td>1</td>\n",
              "      <td>1</td>\n",
              "      <td>1</td>\n",
              "      <td>1</td>\n",
              "    </tr>\n",
              "  </tbody>\n",
              "</table>\n",
              "</div>"
            ],
            "text/plain": [
              "   x1  x2  x3  y\n",
              "0   0   0   0  0\n",
              "1   0   0   1  0\n",
              "2   0   1   0  1\n",
              "3   0   1   1  0\n",
              "4   1   0   0  0\n",
              "5   1   0   1  0\n",
              "6   1   1   0  1\n",
              "7   1   1   1  1"
            ]
          },
          "metadata": {
            "tags": []
          },
          "execution_count": 790
        }
      ]
    },
    {
      "cell_type": "code",
      "metadata": {
        "id": "VkHLdNsaXS8o",
        "colab_type": "code",
        "colab": {
          "base_uri": "https://localhost:8080/",
          "height": 34
        },
        "outputId": "ddb00dac-c4c9-4779-bfba-ef46f81d95fc"
      },
      "source": [
        "x_train, y_train = df.iloc[:,:3].to_numpy(),df.iloc[:,3].to_numpy()\n",
        "\n",
        "x_train = torch.FloatTensor(x_train)\n",
        "y_train = torch.FloatTensor(y_train)\n",
        "print(x_train.shape,y_train.shape)"
      ],
      "execution_count": 791,
      "outputs": [
        {
          "output_type": "stream",
          "text": [
            "torch.Size([8, 3]) torch.Size([8])\n"
          ],
          "name": "stdout"
        }
      ]
    },
    {
      "cell_type": "code",
      "metadata": {
        "id": "zSnDomfQd5_v",
        "colab_type": "code",
        "colab": {
          "base_uri": "https://localhost:8080/",
          "height": 34
        },
        "outputId": "d168927d-135c-41d8-9be4-08bcf5df08c9"
      },
      "source": [
        "x_train.shape"
      ],
      "execution_count": 792,
      "outputs": [
        {
          "output_type": "execute_result",
          "data": {
            "text/plain": [
              "torch.Size([8, 3])"
            ]
          },
          "metadata": {
            "tags": []
          },
          "execution_count": 792
        }
      ]
    },
    {
      "cell_type": "code",
      "metadata": {
        "id": "pVNdhSrSIvLZ",
        "colab_type": "code",
        "colab": {}
      },
      "source": [
        "class BOOLEAN_APPROXIMATOR(nn.Module):\n",
        "    def __init__(self, input_size, hidden_size1,hidden_size2):\n",
        "        super(BOOLEAN_APPROXIMATOR, self).__init__()\n",
        "\n",
        "        self.hidden_size1 = hidden_size1\n",
        "        self.hidden_size2 = hidden_size2\n",
        "\n",
        "        self.fc1 = nn.Linear(input_size, self.hidden_size1)\n",
        "        self.relu = nn.Sigmoid()\n",
        "        self.fc2 = nn.Linear(self.hidden_size1, hidden_size2)\n",
        "        self.sigmoid = nn.Sigmoid()\n",
        "\n",
        "    def forward(self, x):\n",
        "        hidden1 = self.fc1(x)\n",
        "        relu1 = self.relu(hidden1)\n",
        "        hidden2 = self.fc2(relu1)\n",
        "        output = self.sigmoid(hidden2)\n",
        "        return output"
      ],
      "execution_count": 0,
      "outputs": []
    },
    {
      "cell_type": "code",
      "metadata": {
        "id": "t5H8yWKMUI5J",
        "colab_type": "code",
        "colab": {}
      },
      "source": [
        "INPUT_SIZE = 3\n",
        "n_hidden_size1 = 2\n",
        "n_hidden_size2 = 1"
      ],
      "execution_count": 0,
      "outputs": []
    },
    {
      "cell_type": "code",
      "metadata": {
        "id": "tPt-nsDAU6uN",
        "colab_type": "code",
        "colab": {}
      },
      "source": [
        "model = BOOLEAN_APPROXIMATOR(INPUT_SIZE, n_hidden_size1,n_hidden_size2)\n",
        "criterion = nn.BCELoss()\n",
        "optimizer = torch.optim.SGD(model.parameters(), lr = 0.01)"
      ],
      "execution_count": 0,
      "outputs": []
    },
    {
      "cell_type": "code",
      "metadata": {
        "id": "dJl_fEZsdkaw",
        "colab_type": "code",
        "colab": {
          "base_uri": "https://localhost:8080/",
          "height": 123
        },
        "outputId": "96f3a747-b160-433e-aafd-50e072e7887a"
      },
      "source": [
        "print(model)\n"
      ],
      "execution_count": 796,
      "outputs": [
        {
          "output_type": "stream",
          "text": [
            "BOOLEAN_APPROXIMATOR(\n",
            "  (fc1): Linear(in_features=3, out_features=2, bias=True)\n",
            "  (relu): Sigmoid()\n",
            "  (fc2): Linear(in_features=2, out_features=1, bias=True)\n",
            "  (sigmoid): Sigmoid()\n",
            ")\n"
          ],
          "name": "stdout"
        }
      ]
    },
    {
      "cell_type": "code",
      "metadata": {
        "id": "8vpjd_fkXPCy",
        "colab_type": "code",
        "colab": {
          "base_uri": "https://localhost:8080/",
          "height": 34
        },
        "outputId": "1cfd769e-1eb8-4f0e-965c-d56525857229"
      },
      "source": [
        "model.eval()\n",
        "# x_train = x_train.unsqueeze_(1)\n",
        "y_pred = model(x_train)\n",
        "y_pred.shape\n",
        "before_train = criterion(y_pred.squeeze(), y_train)\n",
        "print('Test loss before training' , before_train.item())"
      ],
      "execution_count": 797,
      "outputs": [
        {
          "output_type": "stream",
          "text": [
            "Test loss before training 0.6686897873878479\n"
          ],
          "name": "stdout"
        }
      ]
    },
    {
      "cell_type": "code",
      "metadata": {
        "id": "-lppbeFBmjkb",
        "colab_type": "code",
        "colab": {}
      },
      "source": [
        "model.train()\n",
        "epoch = 200000\n",
        "for epoch in range(epoch):\n",
        "    optimizer.zero_grad()\n",
        "    # Forward pass\n",
        "    y_pred = model(x_train)\n",
        "    # Compute Loss\n",
        "    loss = criterion(y_pred.squeeze(), y_train)\n",
        "    # Backward pass\n",
        "    loss.backward()\n",
        "    optimizer.step()"
      ],
      "execution_count": 0,
      "outputs": []
    },
    {
      "cell_type": "code",
      "metadata": {
        "id": "DL2bEg-_tbXp",
        "colab_type": "code",
        "colab": {
          "base_uri": "https://localhost:8080/",
          "height": 105
        },
        "outputId": "80b2e614-2947-4cd5-8e24-5289765259c2"
      },
      "source": [
        "for name,param in model.named_parameters():\n",
        "  print(name,param.data)"
      ],
      "execution_count": 799,
      "outputs": [
        {
          "output_type": "stream",
          "text": [
            "fc1.weight tensor([[-2.3970, -5.1922,  2.5649],\n",
            "        [-3.2882, -6.7778,  3.4577]])\n",
            "fc1.bias tensor([3.2928, 4.5662])\n",
            "fc2.weight tensor([[ -6.9767, -10.0138]])\n",
            "fc2.bias tensor([7.1171])\n"
          ],
          "name": "stdout"
        }
      ]
    },
    {
      "cell_type": "code",
      "metadata": {
        "id": "_GLfmWja1dc5",
        "colab_type": "code",
        "colab": {
          "base_uri": "https://localhost:8080/",
          "height": 34
        },
        "outputId": "9ab96693-fafb-4a1c-e676-d5a67b87cc41"
      },
      "source": [
        "model.eval()\n",
        "after_train = criterion(y_pred.squeeze(), y_train)\n",
        "print('Test loss before training' , after_train.item())"
      ],
      "execution_count": 800,
      "outputs": [
        {
          "output_type": "stream",
          "text": [
            "Test loss before training 0.0027987142093479633\n"
          ],
          "name": "stdout"
        }
      ]
    },
    {
      "cell_type": "code",
      "metadata": {
        "id": "8UDPZF3ot9wC",
        "colab_type": "code",
        "colab": {
          "base_uri": "https://localhost:8080/",
          "height": 34
        },
        "outputId": "409aa1d9-b1f9-46cf-f76d-4bce6571fe9a"
      },
      "source": [
        "model.eval()\n",
        "y_pred = model(x_train)\n",
        "y_pred =y_pred.squeeze()\n",
        "y_pred = np.round(y_pred.detach().numpy())\n",
        "y_pred"
      ],
      "execution_count": 801,
      "outputs": [
        {
          "output_type": "execute_result",
          "data": {
            "text/plain": [
              "array([0., 0., 1., 0., 0., 0., 1., 1.], dtype=float32)"
            ]
          },
          "metadata": {
            "tags": []
          },
          "execution_count": 801
        }
      ]
    },
    {
      "cell_type": "code",
      "metadata": {
        "id": "9WHDxACiu_z8",
        "colab_type": "code",
        "colab": {
          "base_uri": "https://localhost:8080/",
          "height": 34
        },
        "outputId": "258ffd75-8d12-404c-cd0f-e6717bb6b4d0"
      },
      "source": [
        "y_train"
      ],
      "execution_count": 802,
      "outputs": [
        {
          "output_type": "execute_result",
          "data": {
            "text/plain": [
              "tensor([0., 0., 1., 0., 0., 0., 1., 1.])"
            ]
          },
          "metadata": {
            "tags": []
          },
          "execution_count": 802
        }
      ]
    },
    {
      "cell_type": "code",
      "metadata": {
        "id": "5Je0RWj8vfSr",
        "colab_type": "code",
        "colab": {}
      },
      "source": [
        ""
      ],
      "execution_count": 0,
      "outputs": []
    }
  ]
}