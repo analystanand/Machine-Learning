{
  "nbformat": 4,
  "nbformat_minor": 0,
  "metadata": {
    "anaconda-cloud": {},
    "kernelspec": {
      "display_name": "Python [conda env:anaconda3]",
      "language": "python",
      "name": "conda-env-anaconda3-py"
    },
    "language_info": {
      "codemirror_mode": {
        "name": "ipython",
        "version": 3
      },
      "file_extension": ".py",
      "mimetype": "text/x-python",
      "name": "python",
      "nbconvert_exporter": "python",
      "pygments_lexer": "ipython3",
      "version": "3.5.2"
    },
    "colab": {
      "name": "Card_Transactions.ipynb",
      "provenance": [],
      "collapsed_sections": [],
      "machine_shape": "hm",
      "include_colab_link": true
    },
    "accelerator": "GPU"
  },
  "cells": [
    {
      "cell_type": "markdown",
      "metadata": {
        "id": "view-in-github",
        "colab_type": "text"
      },
      "source": [
        "<a href=\"https://colab.research.google.com/github/analystanand/Machine-Learning/blob/master/Card_Transactions.ipynb\" target=\"_parent\"><img src=\"https://colab.research.google.com/assets/colab-badge.svg\" alt=\"Open In Colab\"/></a>"
      ]
    },
    {
      "cell_type": "markdown",
      "metadata": {
        "id": "B10DVywVjER-",
        "colab_type": "text"
      },
      "source": [
        "# Capital One Data Science Challenge"
      ]
    },
    {
      "cell_type": "markdown",
      "metadata": {
        "id": "nLJla9NQjESH",
        "colab_type": "text"
      },
      "source": [
        "### Dowload and Extract Data"
      ]
    },
    {
      "cell_type": "code",
      "metadata": {
        "id": "sx6zLolgjESM",
        "colab_type": "code",
        "colab": {}
      },
      "source": [
        "# !git clone https://github.com/CapitalOneRecruiting/DS.git\n",
        "# !unzip DS/transactions.zip"
      ],
      "execution_count": 0,
      "outputs": []
    },
    {
      "cell_type": "markdown",
      "metadata": {
        "id": "HJgmw-XivrBL",
        "colab_type": "text"
      },
      "source": [
        "##Library Installations"
      ]
    },
    {
      "cell_type": "code",
      "metadata": {
        "id": "LPU1QWQ5jESY",
        "colab_type": "code",
        "colab": {}
      },
      "source": [
        "# !pip install jsonlines\n",
        "# !pip install pandas\n",
        "# !pip install category_encoders\n",
        "#!pip install -U imbalanced-learn"
      ],
      "execution_count": 0,
      "outputs": []
    },
    {
      "cell_type": "code",
      "metadata": {
        "id": "Db0F1LNMjESe",
        "colab_type": "code",
        "colab": {}
      },
      "source": [
        "%matplotlib inline\n",
        "import numpy as np\n",
        "import plotly.express as px\n",
        "import pandas as pd\n",
        "import seaborn as sns\n",
        "import jsonlines\n",
        "import matplotlib\n",
        "from sklearn.pipeline import Pipeline\n",
        "import matplotlib.pyplot as plt\n",
        "from sklearn.model_selection import GridSearchCV\n",
        "from sklearn.ensemble import RandomForestClassifier\n",
        "from sklearn.svm import SVC\n",
        "from imblearn.under_sampling import RandomUnderSampler\n",
        "from sklearn.metrics import plot_confusion_matrix\n",
        "from sklearn.model_selection import train_test_split\n",
        "from sklearn.preprocessing import LabelEncoder\n",
        "from sklearn.preprocessing import StandardScaler\n",
        "from sklearn.compose import ColumnTransformer\n",
        "from sklearn.linear_model import LogisticRegression\n",
        "from sklearn.metrics import confusion_matrix,recall_score,precision_recall_curve,auc,roc_curve,roc_auc_score,classification_report\n",
        "import category_encoders as ce\n",
        "from sklearn.metrics import confusion_matrix, classification_report, roc_curve, roc_auc_score"
      ],
      "execution_count": 0,
      "outputs": []
    },
    {
      "cell_type": "markdown",
      "metadata": {
        "id": "dLUbUvZUyMj8",
        "colab_type": "text"
      },
      "source": [
        "#Question 1: Load"
      ]
    },
    {
      "cell_type": "markdown",
      "metadata": {
        "id": "ixreWYOsv3Kk",
        "colab_type": "text"
      },
      "source": [
        "Read transactions from file and Load into panda dataFrame"
      ]
    },
    {
      "cell_type": "code",
      "metadata": {
        "id": "WFYfFpR4jES7",
        "colab_type": "code",
        "colab": {}
      },
      "source": [
        "FILENAME= \"./transactions.txt\"\n",
        "transactions = []\n",
        "with jsonlines.open(FILENAME) as file:\n",
        "    transactions = [record for record in file]\n",
        "transactions_df = pd.DataFrame(transactions)"
      ],
      "execution_count": 0,
      "outputs": []
    },
    {
      "cell_type": "code",
      "metadata": {
        "id": "E3IRAXlvjh21",
        "colab_type": "code",
        "outputId": "3302fa5e-71c6-4ecc-e91a-9cf8987898d9",
        "colab": {
          "base_uri": "https://localhost:8080/",
          "height": 52
        }
      },
      "source": [
        "print(\"Number of transaction records\",transactions_df.shape[0])\n",
        "print(\"No. of Customers\",transactions_df.customerId.unique().shape[0])"
      ],
      "execution_count": 620,
      "outputs": [
        {
          "output_type": "stream",
          "text": [
            "Number of transaction records 786363\n",
            "No. of Customers 5000\n"
          ],
          "name": "stdout"
        }
      ]
    },
    {
      "cell_type": "code",
      "metadata": {
        "id": "eZCAXjGNuR1b",
        "colab_type": "code",
        "outputId": "9bb3dea1-6298-42cb-d735-02e15e73bd09",
        "colab": {
          "base_uri": "https://localhost:8080/",
          "height": 234
        }
      },
      "source": [
        "transactions_df.head(5)"
      ],
      "execution_count": 621,
      "outputs": [
        {
          "output_type": "execute_result",
          "data": {
            "text/html": [
              "<div>\n",
              "<style scoped>\n",
              "    .dataframe tbody tr th:only-of-type {\n",
              "        vertical-align: middle;\n",
              "    }\n",
              "\n",
              "    .dataframe tbody tr th {\n",
              "        vertical-align: top;\n",
              "    }\n",
              "\n",
              "    .dataframe thead th {\n",
              "        text-align: right;\n",
              "    }\n",
              "</style>\n",
              "<table border=\"1\" class=\"dataframe\">\n",
              "  <thead>\n",
              "    <tr style=\"text-align: right;\">\n",
              "      <th></th>\n",
              "      <th>accountNumber</th>\n",
              "      <th>customerId</th>\n",
              "      <th>creditLimit</th>\n",
              "      <th>availableMoney</th>\n",
              "      <th>transactionDateTime</th>\n",
              "      <th>transactionAmount</th>\n",
              "      <th>merchantName</th>\n",
              "      <th>acqCountry</th>\n",
              "      <th>merchantCountryCode</th>\n",
              "      <th>posEntryMode</th>\n",
              "      <th>posConditionCode</th>\n",
              "      <th>merchantCategoryCode</th>\n",
              "      <th>currentExpDate</th>\n",
              "      <th>accountOpenDate</th>\n",
              "      <th>dateOfLastAddressChange</th>\n",
              "      <th>cardCVV</th>\n",
              "      <th>enteredCVV</th>\n",
              "      <th>cardLast4Digits</th>\n",
              "      <th>transactionType</th>\n",
              "      <th>echoBuffer</th>\n",
              "      <th>currentBalance</th>\n",
              "      <th>merchantCity</th>\n",
              "      <th>merchantState</th>\n",
              "      <th>merchantZip</th>\n",
              "      <th>cardPresent</th>\n",
              "      <th>posOnPremises</th>\n",
              "      <th>recurringAuthInd</th>\n",
              "      <th>expirationDateKeyInMatch</th>\n",
              "      <th>isFraud</th>\n",
              "    </tr>\n",
              "  </thead>\n",
              "  <tbody>\n",
              "    <tr>\n",
              "      <th>0</th>\n",
              "      <td>737265056</td>\n",
              "      <td>737265056</td>\n",
              "      <td>5000.0</td>\n",
              "      <td>5000.0</td>\n",
              "      <td>2016-08-13T14:27:32</td>\n",
              "      <td>98.55</td>\n",
              "      <td>Uber</td>\n",
              "      <td>US</td>\n",
              "      <td>US</td>\n",
              "      <td>02</td>\n",
              "      <td>01</td>\n",
              "      <td>rideshare</td>\n",
              "      <td>06/2023</td>\n",
              "      <td>2015-03-14</td>\n",
              "      <td>2015-03-14</td>\n",
              "      <td>414</td>\n",
              "      <td>414</td>\n",
              "      <td>1803</td>\n",
              "      <td>PURCHASE</td>\n",
              "      <td></td>\n",
              "      <td>0.0</td>\n",
              "      <td></td>\n",
              "      <td></td>\n",
              "      <td></td>\n",
              "      <td>False</td>\n",
              "      <td></td>\n",
              "      <td></td>\n",
              "      <td>False</td>\n",
              "      <td>False</td>\n",
              "    </tr>\n",
              "    <tr>\n",
              "      <th>1</th>\n",
              "      <td>737265056</td>\n",
              "      <td>737265056</td>\n",
              "      <td>5000.0</td>\n",
              "      <td>5000.0</td>\n",
              "      <td>2016-10-11T05:05:54</td>\n",
              "      <td>74.51</td>\n",
              "      <td>AMC #191138</td>\n",
              "      <td>US</td>\n",
              "      <td>US</td>\n",
              "      <td>09</td>\n",
              "      <td>01</td>\n",
              "      <td>entertainment</td>\n",
              "      <td>02/2024</td>\n",
              "      <td>2015-03-14</td>\n",
              "      <td>2015-03-14</td>\n",
              "      <td>486</td>\n",
              "      <td>486</td>\n",
              "      <td>767</td>\n",
              "      <td>PURCHASE</td>\n",
              "      <td></td>\n",
              "      <td>0.0</td>\n",
              "      <td></td>\n",
              "      <td></td>\n",
              "      <td></td>\n",
              "      <td>True</td>\n",
              "      <td></td>\n",
              "      <td></td>\n",
              "      <td>False</td>\n",
              "      <td>False</td>\n",
              "    </tr>\n",
              "    <tr>\n",
              "      <th>2</th>\n",
              "      <td>737265056</td>\n",
              "      <td>737265056</td>\n",
              "      <td>5000.0</td>\n",
              "      <td>5000.0</td>\n",
              "      <td>2016-11-08T09:18:39</td>\n",
              "      <td>7.47</td>\n",
              "      <td>Play Store</td>\n",
              "      <td>US</td>\n",
              "      <td>US</td>\n",
              "      <td>09</td>\n",
              "      <td>01</td>\n",
              "      <td>mobileapps</td>\n",
              "      <td>08/2025</td>\n",
              "      <td>2015-03-14</td>\n",
              "      <td>2015-03-14</td>\n",
              "      <td>486</td>\n",
              "      <td>486</td>\n",
              "      <td>767</td>\n",
              "      <td>PURCHASE</td>\n",
              "      <td></td>\n",
              "      <td>0.0</td>\n",
              "      <td></td>\n",
              "      <td></td>\n",
              "      <td></td>\n",
              "      <td>False</td>\n",
              "      <td></td>\n",
              "      <td></td>\n",
              "      <td>False</td>\n",
              "      <td>False</td>\n",
              "    </tr>\n",
              "    <tr>\n",
              "      <th>3</th>\n",
              "      <td>737265056</td>\n",
              "      <td>737265056</td>\n",
              "      <td>5000.0</td>\n",
              "      <td>5000.0</td>\n",
              "      <td>2016-12-10T02:14:50</td>\n",
              "      <td>7.47</td>\n",
              "      <td>Play Store</td>\n",
              "      <td>US</td>\n",
              "      <td>US</td>\n",
              "      <td>09</td>\n",
              "      <td>01</td>\n",
              "      <td>mobileapps</td>\n",
              "      <td>08/2025</td>\n",
              "      <td>2015-03-14</td>\n",
              "      <td>2015-03-14</td>\n",
              "      <td>486</td>\n",
              "      <td>486</td>\n",
              "      <td>767</td>\n",
              "      <td>PURCHASE</td>\n",
              "      <td></td>\n",
              "      <td>0.0</td>\n",
              "      <td></td>\n",
              "      <td></td>\n",
              "      <td></td>\n",
              "      <td>False</td>\n",
              "      <td></td>\n",
              "      <td></td>\n",
              "      <td>False</td>\n",
              "      <td>False</td>\n",
              "    </tr>\n",
              "    <tr>\n",
              "      <th>4</th>\n",
              "      <td>830329091</td>\n",
              "      <td>830329091</td>\n",
              "      <td>5000.0</td>\n",
              "      <td>5000.0</td>\n",
              "      <td>2016-03-24T21:04:46</td>\n",
              "      <td>71.18</td>\n",
              "      <td>Tim Hortons #947751</td>\n",
              "      <td>US</td>\n",
              "      <td>US</td>\n",
              "      <td>02</td>\n",
              "      <td>01</td>\n",
              "      <td>fastfood</td>\n",
              "      <td>10/2029</td>\n",
              "      <td>2015-08-06</td>\n",
              "      <td>2015-08-06</td>\n",
              "      <td>885</td>\n",
              "      <td>885</td>\n",
              "      <td>3143</td>\n",
              "      <td>PURCHASE</td>\n",
              "      <td></td>\n",
              "      <td>0.0</td>\n",
              "      <td></td>\n",
              "      <td></td>\n",
              "      <td></td>\n",
              "      <td>True</td>\n",
              "      <td></td>\n",
              "      <td></td>\n",
              "      <td>False</td>\n",
              "      <td>False</td>\n",
              "    </tr>\n",
              "  </tbody>\n",
              "</table>\n",
              "</div>"
            ],
            "text/plain": [
              "  accountNumber customerId  ...  expirationDateKeyInMatch  isFraud\n",
              "0     737265056  737265056  ...                     False    False\n",
              "1     737265056  737265056  ...                     False    False\n",
              "2     737265056  737265056  ...                     False    False\n",
              "3     737265056  737265056  ...                     False    False\n",
              "4     830329091  830329091  ...                     False    False\n",
              "\n",
              "[5 rows x 29 columns]"
            ]
          },
          "metadata": {
            "tags": []
          },
          "execution_count": 621
        }
      ]
    },
    {
      "cell_type": "markdown",
      "metadata": {
        "id": "z2KayN2QUlFq",
        "colab_type": "text"
      },
      "source": [
        "### There are few empty columns and are not useful for analysis  and it good to drop them."
      ]
    },
    {
      "cell_type": "code",
      "metadata": {
        "id": "Dtw3LJxUSk7R",
        "colab_type": "code",
        "outputId": "3dd6474a-ec6b-4c70-f3b9-7178371aaf61",
        "colab": {
          "base_uri": "https://localhost:8080/",
          "height": 234
        }
      },
      "source": [
        "empty_columns = []\n",
        "for i in transactions_df.columns.values:\n",
        "  if len(set(transactions_df[i]))==1:\n",
        "     empty_columns.append(i)\n",
        "\n",
        "transactions_df = transactions_df.drop(empty_columns,axis=1)\n",
        "transactions_df.head()"
      ],
      "execution_count": 622,
      "outputs": [
        {
          "output_type": "execute_result",
          "data": {
            "text/html": [
              "<div>\n",
              "<style scoped>\n",
              "    .dataframe tbody tr th:only-of-type {\n",
              "        vertical-align: middle;\n",
              "    }\n",
              "\n",
              "    .dataframe tbody tr th {\n",
              "        vertical-align: top;\n",
              "    }\n",
              "\n",
              "    .dataframe thead th {\n",
              "        text-align: right;\n",
              "    }\n",
              "</style>\n",
              "<table border=\"1\" class=\"dataframe\">\n",
              "  <thead>\n",
              "    <tr style=\"text-align: right;\">\n",
              "      <th></th>\n",
              "      <th>accountNumber</th>\n",
              "      <th>customerId</th>\n",
              "      <th>creditLimit</th>\n",
              "      <th>availableMoney</th>\n",
              "      <th>transactionDateTime</th>\n",
              "      <th>transactionAmount</th>\n",
              "      <th>merchantName</th>\n",
              "      <th>acqCountry</th>\n",
              "      <th>merchantCountryCode</th>\n",
              "      <th>posEntryMode</th>\n",
              "      <th>posConditionCode</th>\n",
              "      <th>merchantCategoryCode</th>\n",
              "      <th>currentExpDate</th>\n",
              "      <th>accountOpenDate</th>\n",
              "      <th>dateOfLastAddressChange</th>\n",
              "      <th>cardCVV</th>\n",
              "      <th>enteredCVV</th>\n",
              "      <th>cardLast4Digits</th>\n",
              "      <th>transactionType</th>\n",
              "      <th>currentBalance</th>\n",
              "      <th>cardPresent</th>\n",
              "      <th>expirationDateKeyInMatch</th>\n",
              "      <th>isFraud</th>\n",
              "    </tr>\n",
              "  </thead>\n",
              "  <tbody>\n",
              "    <tr>\n",
              "      <th>0</th>\n",
              "      <td>737265056</td>\n",
              "      <td>737265056</td>\n",
              "      <td>5000.0</td>\n",
              "      <td>5000.0</td>\n",
              "      <td>2016-08-13T14:27:32</td>\n",
              "      <td>98.55</td>\n",
              "      <td>Uber</td>\n",
              "      <td>US</td>\n",
              "      <td>US</td>\n",
              "      <td>02</td>\n",
              "      <td>01</td>\n",
              "      <td>rideshare</td>\n",
              "      <td>06/2023</td>\n",
              "      <td>2015-03-14</td>\n",
              "      <td>2015-03-14</td>\n",
              "      <td>414</td>\n",
              "      <td>414</td>\n",
              "      <td>1803</td>\n",
              "      <td>PURCHASE</td>\n",
              "      <td>0.0</td>\n",
              "      <td>False</td>\n",
              "      <td>False</td>\n",
              "      <td>False</td>\n",
              "    </tr>\n",
              "    <tr>\n",
              "      <th>1</th>\n",
              "      <td>737265056</td>\n",
              "      <td>737265056</td>\n",
              "      <td>5000.0</td>\n",
              "      <td>5000.0</td>\n",
              "      <td>2016-10-11T05:05:54</td>\n",
              "      <td>74.51</td>\n",
              "      <td>AMC #191138</td>\n",
              "      <td>US</td>\n",
              "      <td>US</td>\n",
              "      <td>09</td>\n",
              "      <td>01</td>\n",
              "      <td>entertainment</td>\n",
              "      <td>02/2024</td>\n",
              "      <td>2015-03-14</td>\n",
              "      <td>2015-03-14</td>\n",
              "      <td>486</td>\n",
              "      <td>486</td>\n",
              "      <td>767</td>\n",
              "      <td>PURCHASE</td>\n",
              "      <td>0.0</td>\n",
              "      <td>True</td>\n",
              "      <td>False</td>\n",
              "      <td>False</td>\n",
              "    </tr>\n",
              "    <tr>\n",
              "      <th>2</th>\n",
              "      <td>737265056</td>\n",
              "      <td>737265056</td>\n",
              "      <td>5000.0</td>\n",
              "      <td>5000.0</td>\n",
              "      <td>2016-11-08T09:18:39</td>\n",
              "      <td>7.47</td>\n",
              "      <td>Play Store</td>\n",
              "      <td>US</td>\n",
              "      <td>US</td>\n",
              "      <td>09</td>\n",
              "      <td>01</td>\n",
              "      <td>mobileapps</td>\n",
              "      <td>08/2025</td>\n",
              "      <td>2015-03-14</td>\n",
              "      <td>2015-03-14</td>\n",
              "      <td>486</td>\n",
              "      <td>486</td>\n",
              "      <td>767</td>\n",
              "      <td>PURCHASE</td>\n",
              "      <td>0.0</td>\n",
              "      <td>False</td>\n",
              "      <td>False</td>\n",
              "      <td>False</td>\n",
              "    </tr>\n",
              "    <tr>\n",
              "      <th>3</th>\n",
              "      <td>737265056</td>\n",
              "      <td>737265056</td>\n",
              "      <td>5000.0</td>\n",
              "      <td>5000.0</td>\n",
              "      <td>2016-12-10T02:14:50</td>\n",
              "      <td>7.47</td>\n",
              "      <td>Play Store</td>\n",
              "      <td>US</td>\n",
              "      <td>US</td>\n",
              "      <td>09</td>\n",
              "      <td>01</td>\n",
              "      <td>mobileapps</td>\n",
              "      <td>08/2025</td>\n",
              "      <td>2015-03-14</td>\n",
              "      <td>2015-03-14</td>\n",
              "      <td>486</td>\n",
              "      <td>486</td>\n",
              "      <td>767</td>\n",
              "      <td>PURCHASE</td>\n",
              "      <td>0.0</td>\n",
              "      <td>False</td>\n",
              "      <td>False</td>\n",
              "      <td>False</td>\n",
              "    </tr>\n",
              "    <tr>\n",
              "      <th>4</th>\n",
              "      <td>830329091</td>\n",
              "      <td>830329091</td>\n",
              "      <td>5000.0</td>\n",
              "      <td>5000.0</td>\n",
              "      <td>2016-03-24T21:04:46</td>\n",
              "      <td>71.18</td>\n",
              "      <td>Tim Hortons #947751</td>\n",
              "      <td>US</td>\n",
              "      <td>US</td>\n",
              "      <td>02</td>\n",
              "      <td>01</td>\n",
              "      <td>fastfood</td>\n",
              "      <td>10/2029</td>\n",
              "      <td>2015-08-06</td>\n",
              "      <td>2015-08-06</td>\n",
              "      <td>885</td>\n",
              "      <td>885</td>\n",
              "      <td>3143</td>\n",
              "      <td>PURCHASE</td>\n",
              "      <td>0.0</td>\n",
              "      <td>True</td>\n",
              "      <td>False</td>\n",
              "      <td>False</td>\n",
              "    </tr>\n",
              "  </tbody>\n",
              "</table>\n",
              "</div>"
            ],
            "text/plain": [
              "  accountNumber customerId  ...  expirationDateKeyInMatch  isFraud\n",
              "0     737265056  737265056  ...                     False    False\n",
              "1     737265056  737265056  ...                     False    False\n",
              "2     737265056  737265056  ...                     False    False\n",
              "3     737265056  737265056  ...                     False    False\n",
              "4     830329091  830329091  ...                     False    False\n",
              "\n",
              "[5 rows x 23 columns]"
            ]
          },
          "metadata": {
            "tags": []
          },
          "execution_count": 622
        }
      ]
    },
    {
      "cell_type": "code",
      "metadata": {
        "id": "l60IjCGTd900",
        "colab_type": "code",
        "colab": {}
      },
      "source": [
        "transactions_df['transaction_id'] = transactions_df.index #for uniquely identifying record"
      ],
      "execution_count": 0,
      "outputs": []
    },
    {
      "cell_type": "code",
      "metadata": {
        "id": "ZppN0CWQ7JEP",
        "colab_type": "code",
        "outputId": "e5f1a4ec-a80b-4a60-827a-e0267b5454dc",
        "colab": {
          "base_uri": "https://localhost:8080/",
          "height": 461
        }
      },
      "source": [
        "transactions_df.dtypes"
      ],
      "execution_count": 624,
      "outputs": [
        {
          "output_type": "execute_result",
          "data": {
            "text/plain": [
              "accountNumber                object\n",
              "customerId                   object\n",
              "creditLimit                 float64\n",
              "availableMoney              float64\n",
              "transactionDateTime          object\n",
              "transactionAmount           float64\n",
              "merchantName                 object\n",
              "acqCountry                   object\n",
              "merchantCountryCode          object\n",
              "posEntryMode                 object\n",
              "posConditionCode             object\n",
              "merchantCategoryCode         object\n",
              "currentExpDate               object\n",
              "accountOpenDate              object\n",
              "dateOfLastAddressChange      object\n",
              "cardCVV                      object\n",
              "enteredCVV                   object\n",
              "cardLast4Digits              object\n",
              "transactionType              object\n",
              "currentBalance              float64\n",
              "cardPresent                    bool\n",
              "expirationDateKeyInMatch       bool\n",
              "isFraud                        bool\n",
              "transaction_id                int64\n",
              "dtype: object"
            ]
          },
          "metadata": {
            "tags": []
          },
          "execution_count": 624
        }
      ]
    },
    {
      "cell_type": "code",
      "metadata": {
        "id": "jLV8vQg6xlQB",
        "colab_type": "code",
        "outputId": "742951a9-553d-4795-9263-9307aa59b666",
        "colab": {
          "base_uri": "https://localhost:8080/",
          "height": 287
        }
      },
      "source": [
        "transactions_df.describe()"
      ],
      "execution_count": 625,
      "outputs": [
        {
          "output_type": "execute_result",
          "data": {
            "text/html": [
              "<div>\n",
              "<style scoped>\n",
              "    .dataframe tbody tr th:only-of-type {\n",
              "        vertical-align: middle;\n",
              "    }\n",
              "\n",
              "    .dataframe tbody tr th {\n",
              "        vertical-align: top;\n",
              "    }\n",
              "\n",
              "    .dataframe thead th {\n",
              "        text-align: right;\n",
              "    }\n",
              "</style>\n",
              "<table border=\"1\" class=\"dataframe\">\n",
              "  <thead>\n",
              "    <tr style=\"text-align: right;\">\n",
              "      <th></th>\n",
              "      <th>creditLimit</th>\n",
              "      <th>availableMoney</th>\n",
              "      <th>transactionAmount</th>\n",
              "      <th>currentBalance</th>\n",
              "      <th>transaction_id</th>\n",
              "    </tr>\n",
              "  </thead>\n",
              "  <tbody>\n",
              "    <tr>\n",
              "      <th>count</th>\n",
              "      <td>786363.000000</td>\n",
              "      <td>786363.000000</td>\n",
              "      <td>786363.000000</td>\n",
              "      <td>786363.000000</td>\n",
              "      <td>786363.000000</td>\n",
              "    </tr>\n",
              "    <tr>\n",
              "      <th>mean</th>\n",
              "      <td>10759.464459</td>\n",
              "      <td>6250.725369</td>\n",
              "      <td>136.985791</td>\n",
              "      <td>4508.739089</td>\n",
              "      <td>393181.000000</td>\n",
              "    </tr>\n",
              "    <tr>\n",
              "      <th>std</th>\n",
              "      <td>11636.174890</td>\n",
              "      <td>8880.783989</td>\n",
              "      <td>147.725569</td>\n",
              "      <td>6457.442068</td>\n",
              "      <td>227003.589202</td>\n",
              "    </tr>\n",
              "    <tr>\n",
              "      <th>min</th>\n",
              "      <td>250.000000</td>\n",
              "      <td>-1005.630000</td>\n",
              "      <td>0.000000</td>\n",
              "      <td>0.000000</td>\n",
              "      <td>0.000000</td>\n",
              "    </tr>\n",
              "    <tr>\n",
              "      <th>25%</th>\n",
              "      <td>5000.000000</td>\n",
              "      <td>1077.420000</td>\n",
              "      <td>33.650000</td>\n",
              "      <td>689.910000</td>\n",
              "      <td>196590.500000</td>\n",
              "    </tr>\n",
              "    <tr>\n",
              "      <th>50%</th>\n",
              "      <td>7500.000000</td>\n",
              "      <td>3184.860000</td>\n",
              "      <td>87.900000</td>\n",
              "      <td>2451.760000</td>\n",
              "      <td>393181.000000</td>\n",
              "    </tr>\n",
              "    <tr>\n",
              "      <th>75%</th>\n",
              "      <td>15000.000000</td>\n",
              "      <td>7500.000000</td>\n",
              "      <td>191.480000</td>\n",
              "      <td>5291.095000</td>\n",
              "      <td>589771.500000</td>\n",
              "    </tr>\n",
              "    <tr>\n",
              "      <th>max</th>\n",
              "      <td>50000.000000</td>\n",
              "      <td>50000.000000</td>\n",
              "      <td>2011.540000</td>\n",
              "      <td>47498.810000</td>\n",
              "      <td>786362.000000</td>\n",
              "    </tr>\n",
              "  </tbody>\n",
              "</table>\n",
              "</div>"
            ],
            "text/plain": [
              "         creditLimit  availableMoney  ...  currentBalance  transaction_id\n",
              "count  786363.000000   786363.000000  ...   786363.000000   786363.000000\n",
              "mean    10759.464459     6250.725369  ...     4508.739089   393181.000000\n",
              "std     11636.174890     8880.783989  ...     6457.442068   227003.589202\n",
              "min       250.000000    -1005.630000  ...        0.000000        0.000000\n",
              "25%      5000.000000     1077.420000  ...      689.910000   196590.500000\n",
              "50%      7500.000000     3184.860000  ...     2451.760000   393181.000000\n",
              "75%     15000.000000     7500.000000  ...     5291.095000   589771.500000\n",
              "max     50000.000000    50000.000000  ...    47498.810000   786362.000000\n",
              "\n",
              "[8 rows x 5 columns]"
            ]
          },
          "metadata": {
            "tags": []
          },
          "execution_count": 625
        }
      ]
    },
    {
      "cell_type": "markdown",
      "metadata": {
        "id": "a9RdyFneyu47",
        "colab_type": "text"
      },
      "source": [
        "#Question 2: Plot"
      ]
    },
    {
      "cell_type": "code",
      "metadata": {
        "id": "6k4hvwdJWQ6J",
        "colab_type": "code",
        "outputId": "216f2724-c47a-4602-a208-5bd0f994001c",
        "colab": {
          "base_uri": "https://localhost:8080/",
          "height": 461
        }
      },
      "source": [
        "#reference:https://seaborn.pydata.org/examples/distplot_options.html\n",
        "# Set up the matplotlib figure\n",
        "f, axes = plt.subplots(1,2, figsize=(15, 6), sharex=False)\n",
        "sns.distplot(transactions_df['creditLimit'],kde=False, color=\"g\", ax=axes[0])\n",
        "sns.distplot(transactions_df['availableMoney'],kde=True,color=\"m\", ax=axes[1])\n",
        "plt.tight_layout()\n",
        "plt.show()"
      ],
      "execution_count": 626,
      "outputs": [
        {
          "output_type": "display_data",
          "data": {
            "image/png": "[encoded data removed]",
            "text/plain": [
              "<Figure size 1080x432 with 2 Axes>"
            ]
          },
          "metadata": {
            "tags": []
          }
        }
      ]
    },
    {
      "cell_type": "code",
      "metadata": {
        "id": "mYXuee7NywbN",
        "colab_type": "code",
        "outputId": "62f0cf45-abf2-4f28-cba6-31d0afe316dc",
        "colab": {
          "base_uri": "https://localhost:8080/",
          "height": 461
        }
      },
      "source": [
        "#reference:https://seaborn.pydata.org/examples/distplot_options.html\n",
        "f, axes = plt.subplots(1,2, figsize=(15, 6), sharex=False)\n",
        "sns.distplot(transactions_df['transactionAmount'],kde=True,norm_hist=True, color=\"r\", ax=axes[0])\n",
        "sns.distplot(transactions_df['currentBalance'],kde=True,norm_hist=True,color=\"b\", ax=axes[1])\n",
        "plt.tight_layout()\n",
        "plt.show()"
      ],
      "execution_count": 627,
      "outputs": [
        {
          "output_type": "display_data",
          "data": {
            "image/png": "[encoded data removed]",
            "text/plain": [
              "<Figure size 1080x432 with 2 Axes>"
            ]
          },
          "metadata": {
            "tags": []
          }
        }
      ]
    },
    {
      "cell_type": "code",
      "metadata": {
        "id": "8BlngVqyzDdL",
        "colab_type": "code",
        "colab": {}
      },
      "source": [
        ""
      ],
      "execution_count": 0,
      "outputs": []
    },
    {
      "cell_type": "markdown",
      "metadata": {
        "id": "md6nrhzbzltQ",
        "colab_type": "text"
      },
      "source": [
        "#Question 3: Data Wrangling - Duplicate Transactions"
      ]
    },
    {
      "cell_type": "code",
      "metadata": {
        "id": "OQXp3Cfr6egp",
        "colab_type": "code",
        "colab": {}
      },
      "source": [
        "transaction_with_dup_flag = transactions_df[[\"customerId\",\"transactionAmount\",\"merchantName\"]].duplicated()"
      ],
      "execution_count": 0,
      "outputs": []
    },
    {
      "cell_type": "code",
      "metadata": {
        "id": "UpoODiXZKvgr",
        "colab_type": "code",
        "colab": {}
      },
      "source": [
        "transactions_df[\"isDuplicate\"]=transaction_with_dup_flag"
      ],
      "execution_count": 0,
      "outputs": []
    },
    {
      "cell_type": "code",
      "metadata": {
        "id": "2G_BpUt9OaZj",
        "colab_type": "code",
        "colab": {}
      },
      "source": [
        "duplicate_transactions = transactions_df[transactions_df[\"isDuplicate\"]==True]"
      ],
      "execution_count": 0,
      "outputs": []
    },
    {
      "cell_type": "code",
      "metadata": {
        "id": "8_ni1VI-OcjB",
        "colab_type": "code",
        "colab": {}
      },
      "source": [
        "result =  duplicate_transactions[[\"customerId\",\"transactionAmount\",\"merchantName\",\"transactionDateTime\"]].groupby(by=[\"customerId\",\"transactionAmount\",\"merchantName\"]).count()"
      ],
      "execution_count": 0,
      "outputs": []
    },
    {
      "cell_type": "code",
      "metadata": {
        "id": "gYBKKN7RPhES",
        "colab_type": "code",
        "colab": {}
      },
      "source": [
        "dup_analysis_df = result.reset_index()"
      ],
      "execution_count": 0,
      "outputs": []
    },
    {
      "cell_type": "code",
      "metadata": {
        "id": "Ja-ech90VtZ6",
        "colab_type": "code",
        "colab": {}
      },
      "source": [
        "dup_analysis_df = dup_analysis_df.rename(columns={\"transactionDateTime\": \"occurence\"})"
      ],
      "execution_count": 0,
      "outputs": []
    },
    {
      "cell_type": "code",
      "metadata": {
        "id": "LO_G1gF-V9S2",
        "colab_type": "code",
        "colab": {}
      },
      "source": [
        "dup_analysis_df['dup_category'] = np.where(dup_analysis_df['occurence']>1, 'multi-swipe', 'reversed')"
      ],
      "execution_count": 0,
      "outputs": []
    },
    {
      "cell_type": "code",
      "metadata": {
        "id": "H-7KgbzLXLl6",
        "colab_type": "code",
        "outputId": "b4cef3ec-8ede-44a0-8b32-fa5a47b1ed83",
        "colab": {
          "base_uri": "https://localhost:8080/",
          "height": 137
        }
      },
      "source": [
        "analysis = dup_analysis_df.groupby(by=[\"dup_category\"]).sum()\n",
        "analysis.head()"
      ],
      "execution_count": 635,
      "outputs": [
        {
          "output_type": "execute_result",
          "data": {
            "text/html": [
              "<div>\n",
              "<style scoped>\n",
              "    .dataframe tbody tr th:only-of-type {\n",
              "        vertical-align: middle;\n",
              "    }\n",
              "\n",
              "    .dataframe tbody tr th {\n",
              "        vertical-align: top;\n",
              "    }\n",
              "\n",
              "    .dataframe thead th {\n",
              "        text-align: right;\n",
              "    }\n",
              "</style>\n",
              "<table border=\"1\" class=\"dataframe\">\n",
              "  <thead>\n",
              "    <tr style=\"text-align: right;\">\n",
              "      <th></th>\n",
              "      <th>transactionAmount</th>\n",
              "      <th>occurence</th>\n",
              "    </tr>\n",
              "    <tr>\n",
              "      <th>dup_category</th>\n",
              "      <th></th>\n",
              "      <th></th>\n",
              "    </tr>\n",
              "  </thead>\n",
              "  <tbody>\n",
              "    <tr>\n",
              "      <th>multi-swipe</th>\n",
              "      <td>272232.43</td>\n",
              "      <td>47451</td>\n",
              "    </tr>\n",
              "    <tr>\n",
              "      <th>reversed</th>\n",
              "      <td>3674589.58</td>\n",
              "      <td>27696</td>\n",
              "    </tr>\n",
              "  </tbody>\n",
              "</table>\n",
              "</div>"
            ],
            "text/plain": [
              "              transactionAmount  occurence\n",
              "dup_category                              \n",
              "multi-swipe           272232.43      47451\n",
              "reversed             3674589.58      27696"
            ]
          },
          "metadata": {
            "tags": []
          },
          "execution_count": 635
        }
      ]
    },
    {
      "cell_type": "code",
      "metadata": {
        "id": "z9q9meThXTos",
        "colab_type": "code",
        "outputId": "bbc8573f-2418-466b-d744-ec8ffe745116",
        "colab": {
          "base_uri": "https://localhost:8080/",
          "height": 327
        }
      },
      "source": [
        "analysis[\"transactionAmount\"].plot.bar()\n",
        "plt.show()"
      ],
      "execution_count": 636,
      "outputs": [
        {
          "output_type": "display_data",
          "data": {
            "image/png": "[encoded data removed]",
            "text/plain": [
              "<Figure size 432x288 with 1 Axes>"
            ]
          },
          "metadata": {
            "tags": []
          }
        }
      ]
    },
    {
      "cell_type": "markdown",
      "metadata": {
        "id": "LWZ4SYHhLapC",
        "colab_type": "text"
      },
      "source": [
        "# Question 4: Model"
      ]
    },
    {
      "cell_type": "markdown",
      "metadata": {
        "id": "erJbeX0rlw1s",
        "colab_type": "text"
      },
      "source": [
        "## Distribution of Fraud and Regular Case"
      ]
    },
    {
      "cell_type": "code",
      "metadata": {
        "id": "5NJKKk1lLcJ1",
        "colab_type": "code",
        "outputId": "fb212128-aa61-4082-be76-efb287ef7dd6",
        "colab": {
          "base_uri": "https://localhost:8080/",
          "height": 282
        }
      },
      "source": [
        "class_dist=pd.value_counts(transactions_df[\"isFraud\"], sort= True)\n",
        "class_dist.plot(kind= 'bar')\n",
        "plt.show()"
      ],
      "execution_count": 637,
      "outputs": [
        {
          "output_type": "display_data",
          "data": {
            "image/png": "[encoded data removed]",
            "text/plain": [
              "<Figure size 432x288 with 1 Axes>"
            ]
          },
          "metadata": {
            "tags": []
          }
        }
      ]
    },
    {
      "cell_type": "code",
      "metadata": {
        "id": "5ZDrppf2E42T",
        "colab_type": "code",
        "outputId": "6ded133f-a22e-422f-fbbd-60c751a8f894",
        "colab": {
          "base_uri": "https://localhost:8080/",
          "height": 52
        }
      },
      "source": [
        "def class_percentage(t_df):\n",
        "  No_of_Normal_transacation = len(t_df[t_df[\"isFraud\"]==True]) \n",
        "  No_of_Fraud_transacation =len(t_df[t_df[\"isFraud\"]==False])\n",
        "  percent_of_fraud_transaction =  No_of_Fraud_transacation/(No_of_Normal_transacation+No_of_Fraud_transacation)\n",
        "  percent_of_normal_transaction = No_of_Normal_transacation/(No_of_Normal_transacation+No_of_Fraud_transacation)\n",
        "  print(\"percent of Normal transactions: {0:.2%}\".format(percent_of_fraud_transaction))\n",
        "  print(\"percent of Fraud transactions: {0:.2%}\".format(percent_of_normal_transaction))\n",
        "\n",
        "class_percentage(transactions_df)"
      ],
      "execution_count": 638,
      "outputs": [
        {
          "output_type": "stream",
          "text": [
            "percent of Normal transactions: 98.42%\n",
            "percent of Fraud transactions: 1.58%\n"
          ],
          "name": "stdout"
        }
      ]
    },
    {
      "cell_type": "markdown",
      "metadata": {
        "id": "zek4GhkLswUt",
        "colab_type": "text"
      },
      "source": [
        "As we can see that fraud transactions are just 1.58% of total transactions. This is highly imbalanced dataset so we have to carefully choose metric for performance evaluation as well as train a model which is not baised towards normal transaction.For example: randomly predicting all transaction as normal will provide high accuracy to the model but it's not useful for us. \n",
        "\n",
        "\n",
        "---\n",
        "There are popular three techniques to handle imbalanced data.\n",
        "1. undersampling the majority class\n",
        "2. oversampling the minority class\n",
        "3. Weight based loss function to penalize model when it observe minority class\n",
        "\n",
        "We will try only undersampling method although we will lose information but to train a model without an inherent bias towards majority class.\n",
        "\n",
        "First of all lets seperate the data into training and test set before undersampling this is real scenarios we will be facing when it comes to deployment."
      ]
    },
    {
      "cell_type": "code",
      "metadata": {
        "id": "tFWDR0cp-kgr",
        "colab_type": "code",
        "colab": {}
      },
      "source": [
        "transactions_df[\"transactionDateTime\"] = pd.to_datetime(transactions_df[\"transactionDateTime\"])"
      ],
      "execution_count": 0,
      "outputs": []
    },
    {
      "cell_type": "code",
      "metadata": {
        "id": "GlaALMCcqwt_",
        "colab_type": "code",
        "colab": {}
      },
      "source": [
        "transactions_df[\"dateOfLastAddressChange\"] = pd.to_datetime(transactions_df[\"dateOfLastAddressChange\"])\n",
        "transactions_df['diff_address_transactions'] = transactions_df['transactionDateTime'] - transactions_df['dateOfLastAddressChange']\n",
        "transactions_df['diff_address_transactions'] = transactions_df['diff_address_transactions']/np.timedelta64(1,'D')"
      ],
      "execution_count": 0,
      "outputs": []
    },
    {
      "cell_type": "code",
      "metadata": {
        "id": "sb4O0_Tth-Yi",
        "colab_type": "code",
        "colab": {
          "base_uri": "https://localhost:8080/",
          "height": 514
        },
        "outputId": "66a86bdc-493e-4cc7-d8e5-e359b948419c"
      },
      "source": [
        "transactions_df[\"accountOpenDate\"] = pd.to_datetime(transactions_df[\"accountOpenDate\"])\n",
        "transactions_df['diff_accountopen_transactions'] = transactions_df['transactionDateTime'] - transactions_df['accountOpenDate']\n",
        "transactions_df['diff_accountopen_transactions'] = transactions_df['diff_accountopen_transactions']/np.timedelta64(1,'D')\n",
        "transactions_df.dtypes"
      ],
      "execution_count": 641,
      "outputs": [
        {
          "output_type": "execute_result",
          "data": {
            "text/plain": [
              "accountNumber                            object\n",
              "customerId                               object\n",
              "creditLimit                             float64\n",
              "availableMoney                          float64\n",
              "transactionDateTime              datetime64[ns]\n",
              "transactionAmount                       float64\n",
              "merchantName                             object\n",
              "acqCountry                               object\n",
              "merchantCountryCode                      object\n",
              "posEntryMode                             object\n",
              "posConditionCode                         object\n",
              "merchantCategoryCode                     object\n",
              "currentExpDate                           object\n",
              "accountOpenDate                  datetime64[ns]\n",
              "dateOfLastAddressChange          datetime64[ns]\n",
              "cardCVV                                  object\n",
              "enteredCVV                               object\n",
              "cardLast4Digits                          object\n",
              "transactionType                          object\n",
              "currentBalance                          float64\n",
              "cardPresent                                bool\n",
              "expirationDateKeyInMatch                   bool\n",
              "isFraud                                    bool\n",
              "transaction_id                            int64\n",
              "isDuplicate                                bool\n",
              "diff_address_transactions               float64\n",
              "diff_accountopen_transactions           float64\n",
              "dtype: object"
            ]
          },
          "metadata": {
            "tags": []
          },
          "execution_count": 641
        }
      ]
    },
    {
      "cell_type": "code",
      "metadata": {
        "id": "dk8TamYXIM7b",
        "colab_type": "code",
        "colab": {}
      },
      "source": [
        "transactions_df[\"currentExpDate\"] = pd.to_datetime(transactions_df[\"currentExpDate\"],infer_datetime_format=True)\n",
        "transactions_df['diff_currentExpDate_transactions'] =  transactions_df['currentExpDate'] - transactions_df['transactionDateTime'] \n",
        "transactions_df['diff_currentExpDate_transactions'] = transactions_df['diff_currentExpDate_transactions']/np.timedelta64(1,'D')\n"
      ],
      "execution_count": 0,
      "outputs": []
    },
    {
      "cell_type": "code",
      "metadata": {
        "id": "gMMXisBfbsHb",
        "colab_type": "code",
        "outputId": "5d4000e3-2ad2-4c4e-972e-04132e7542c6",
        "colab": {
          "base_uri": "https://localhost:8080/",
          "height": 234
        }
      },
      "source": [
        "transactions_df.head()"
      ],
      "execution_count": 643,
      "outputs": [
        {
          "output_type": "execute_result",
          "data": {
            "text/html": [
              "<div>\n",
              "<style scoped>\n",
              "    .dataframe tbody tr th:only-of-type {\n",
              "        vertical-align: middle;\n",
              "    }\n",
              "\n",
              "    .dataframe tbody tr th {\n",
              "        vertical-align: top;\n",
              "    }\n",
              "\n",
              "    .dataframe thead th {\n",
              "        text-align: right;\n",
              "    }\n",
              "</style>\n",
              "<table border=\"1\" class=\"dataframe\">\n",
              "  <thead>\n",
              "    <tr style=\"text-align: right;\">\n",
              "      <th></th>\n",
              "      <th>accountNumber</th>\n",
              "      <th>customerId</th>\n",
              "      <th>creditLimit</th>\n",
              "      <th>availableMoney</th>\n",
              "      <th>transactionDateTime</th>\n",
              "      <th>transactionAmount</th>\n",
              "      <th>merchantName</th>\n",
              "      <th>acqCountry</th>\n",
              "      <th>merchantCountryCode</th>\n",
              "      <th>posEntryMode</th>\n",
              "      <th>posConditionCode</th>\n",
              "      <th>merchantCategoryCode</th>\n",
              "      <th>currentExpDate</th>\n",
              "      <th>accountOpenDate</th>\n",
              "      <th>dateOfLastAddressChange</th>\n",
              "      <th>cardCVV</th>\n",
              "      <th>enteredCVV</th>\n",
              "      <th>cardLast4Digits</th>\n",
              "      <th>transactionType</th>\n",
              "      <th>currentBalance</th>\n",
              "      <th>cardPresent</th>\n",
              "      <th>expirationDateKeyInMatch</th>\n",
              "      <th>isFraud</th>\n",
              "      <th>transaction_id</th>\n",
              "      <th>isDuplicate</th>\n",
              "      <th>diff_address_transactions</th>\n",
              "      <th>diff_accountopen_transactions</th>\n",
              "      <th>diff_currentExpDate_transactions</th>\n",
              "    </tr>\n",
              "  </thead>\n",
              "  <tbody>\n",
              "    <tr>\n",
              "      <th>0</th>\n",
              "      <td>737265056</td>\n",
              "      <td>737265056</td>\n",
              "      <td>5000.0</td>\n",
              "      <td>5000.0</td>\n",
              "      <td>2016-08-13 14:27:32</td>\n",
              "      <td>98.55</td>\n",
              "      <td>Uber</td>\n",
              "      <td>US</td>\n",
              "      <td>US</td>\n",
              "      <td>02</td>\n",
              "      <td>01</td>\n",
              "      <td>rideshare</td>\n",
              "      <td>2023-06-01</td>\n",
              "      <td>2015-03-14</td>\n",
              "      <td>2015-03-14</td>\n",
              "      <td>414</td>\n",
              "      <td>414</td>\n",
              "      <td>1803</td>\n",
              "      <td>PURCHASE</td>\n",
              "      <td>0.0</td>\n",
              "      <td>False</td>\n",
              "      <td>False</td>\n",
              "      <td>False</td>\n",
              "      <td>0</td>\n",
              "      <td>False</td>\n",
              "      <td>518.602454</td>\n",
              "      <td>518.602454</td>\n",
              "      <td>2482.397546</td>\n",
              "    </tr>\n",
              "    <tr>\n",
              "      <th>1</th>\n",
              "      <td>737265056</td>\n",
              "      <td>737265056</td>\n",
              "      <td>5000.0</td>\n",
              "      <td>5000.0</td>\n",
              "      <td>2016-10-11 05:05:54</td>\n",
              "      <td>74.51</td>\n",
              "      <td>AMC #191138</td>\n",
              "      <td>US</td>\n",
              "      <td>US</td>\n",
              "      <td>09</td>\n",
              "      <td>01</td>\n",
              "      <td>entertainment</td>\n",
              "      <td>2024-02-01</td>\n",
              "      <td>2015-03-14</td>\n",
              "      <td>2015-03-14</td>\n",
              "      <td>486</td>\n",
              "      <td>486</td>\n",
              "      <td>767</td>\n",
              "      <td>PURCHASE</td>\n",
              "      <td>0.0</td>\n",
              "      <td>True</td>\n",
              "      <td>False</td>\n",
              "      <td>False</td>\n",
              "      <td>1</td>\n",
              "      <td>False</td>\n",
              "      <td>577.212431</td>\n",
              "      <td>577.212431</td>\n",
              "      <td>2668.787569</td>\n",
              "    </tr>\n",
              "    <tr>\n",
              "      <th>2</th>\n",
              "      <td>737265056</td>\n",
              "      <td>737265056</td>\n",
              "      <td>5000.0</td>\n",
              "      <td>5000.0</td>\n",
              "      <td>2016-11-08 09:18:39</td>\n",
              "      <td>7.47</td>\n",
              "      <td>Play Store</td>\n",
              "      <td>US</td>\n",
              "      <td>US</td>\n",
              "      <td>09</td>\n",
              "      <td>01</td>\n",
              "      <td>mobileapps</td>\n",
              "      <td>2025-08-01</td>\n",
              "      <td>2015-03-14</td>\n",
              "      <td>2015-03-14</td>\n",
              "      <td>486</td>\n",
              "      <td>486</td>\n",
              "      <td>767</td>\n",
              "      <td>PURCHASE</td>\n",
              "      <td>0.0</td>\n",
              "      <td>False</td>\n",
              "      <td>False</td>\n",
              "      <td>False</td>\n",
              "      <td>2</td>\n",
              "      <td>False</td>\n",
              "      <td>605.387951</td>\n",
              "      <td>605.387951</td>\n",
              "      <td>3187.612049</td>\n",
              "    </tr>\n",
              "    <tr>\n",
              "      <th>3</th>\n",
              "      <td>737265056</td>\n",
              "      <td>737265056</td>\n",
              "      <td>5000.0</td>\n",
              "      <td>5000.0</td>\n",
              "      <td>2016-12-10 02:14:50</td>\n",
              "      <td>7.47</td>\n",
              "      <td>Play Store</td>\n",
              "      <td>US</td>\n",
              "      <td>US</td>\n",
              "      <td>09</td>\n",
              "      <td>01</td>\n",
              "      <td>mobileapps</td>\n",
              "      <td>2025-08-01</td>\n",
              "      <td>2015-03-14</td>\n",
              "      <td>2015-03-14</td>\n",
              "      <td>486</td>\n",
              "      <td>486</td>\n",
              "      <td>767</td>\n",
              "      <td>PURCHASE</td>\n",
              "      <td>0.0</td>\n",
              "      <td>False</td>\n",
              "      <td>False</td>\n",
              "      <td>False</td>\n",
              "      <td>3</td>\n",
              "      <td>True</td>\n",
              "      <td>637.093634</td>\n",
              "      <td>637.093634</td>\n",
              "      <td>3155.906366</td>\n",
              "    </tr>\n",
              "    <tr>\n",
              "      <th>4</th>\n",
              "      <td>830329091</td>\n",
              "      <td>830329091</td>\n",
              "      <td>5000.0</td>\n",
              "      <td>5000.0</td>\n",
              "      <td>2016-03-24 21:04:46</td>\n",
              "      <td>71.18</td>\n",
              "      <td>Tim Hortons #947751</td>\n",
              "      <td>US</td>\n",
              "      <td>US</td>\n",
              "      <td>02</td>\n",
              "      <td>01</td>\n",
              "      <td>fastfood</td>\n",
              "      <td>2029-10-01</td>\n",
              "      <td>2015-08-06</td>\n",
              "      <td>2015-08-06</td>\n",
              "      <td>885</td>\n",
              "      <td>885</td>\n",
              "      <td>3143</td>\n",
              "      <td>PURCHASE</td>\n",
              "      <td>0.0</td>\n",
              "      <td>True</td>\n",
              "      <td>False</td>\n",
              "      <td>False</td>\n",
              "      <td>4</td>\n",
              "      <td>False</td>\n",
              "      <td>231.878310</td>\n",
              "      <td>231.878310</td>\n",
              "      <td>4938.121690</td>\n",
              "    </tr>\n",
              "  </tbody>\n",
              "</table>\n",
              "</div>"
            ],
            "text/plain": [
              "  accountNumber  ... diff_currentExpDate_transactions\n",
              "0     737265056  ...                      2482.397546\n",
              "1     737265056  ...                      2668.787569\n",
              "2     737265056  ...                      3187.612049\n",
              "3     737265056  ...                      3155.906366\n",
              "4     830329091  ...                      4938.121690\n",
              "\n",
              "[5 rows x 28 columns]"
            ]
          },
          "metadata": {
            "tags": []
          },
          "execution_count": 643
        }
      ]
    },
    {
      "cell_type": "markdown",
      "metadata": {
        "id": "FyeD8v7UZoXJ",
        "colab_type": "text"
      },
      "source": [
        "Dropping features which don't need to be fed into in baseline model or we have already derived features from those: \n",
        "\n",
        "1. accountNumber,\n",
        "2. customerId,\n",
        "3. transactionDateTime,\n",
        "4. currentExpDate,\n",
        "5. accountOpenDate\n",
        "6. dateOfLastAddressChange\n",
        "7. cardCVV\t\n",
        "8. enteredCVV\t\n",
        "9. cardLast4Digits"
      ]
    },
    {
      "cell_type": "code",
      "metadata": {
        "id": "u6kTI3UrcEyC",
        "colab_type": "code",
        "outputId": "cbe34d18-b70c-4fcf-8306-ad618503991b",
        "colab": {
          "base_uri": "https://localhost:8080/",
          "height": 354
        }
      },
      "source": [
        "transactions_df = transactions_df.drop([\"accountNumber\",\"customerId\",\"transactionDateTime\",\"currentExpDate\",\"accountOpenDate\",\"dateOfLastAddressChange\",\"cardCVV\",\"enteredCVV\",\"cardLast4Digits\",\"transaction_id\"],axis=1)\n",
        "transactions_df.dtypes"
      ],
      "execution_count": 644,
      "outputs": [
        {
          "output_type": "execute_result",
          "data": {
            "text/plain": [
              "creditLimit                         float64\n",
              "availableMoney                      float64\n",
              "transactionAmount                   float64\n",
              "merchantName                         object\n",
              "acqCountry                           object\n",
              "merchantCountryCode                  object\n",
              "posEntryMode                         object\n",
              "posConditionCode                     object\n",
              "merchantCategoryCode                 object\n",
              "transactionType                      object\n",
              "currentBalance                      float64\n",
              "cardPresent                            bool\n",
              "expirationDateKeyInMatch               bool\n",
              "isFraud                                bool\n",
              "isDuplicate                            bool\n",
              "diff_address_transactions           float64\n",
              "diff_accountopen_transactions       float64\n",
              "diff_currentExpDate_transactions    float64\n",
              "dtype: object"
            ]
          },
          "metadata": {
            "tags": []
          },
          "execution_count": 644
        }
      ]
    },
    {
      "cell_type": "code",
      "metadata": {
        "id": "JK-LWHBkjyy1",
        "colab_type": "code",
        "colab": {}
      },
      "source": [
        "numerical_features = transactions_df.select_dtypes(include=['float64']).columns\n",
        "categorical_features = transactions_df.select_dtypes(include=['object','bool']).drop([\"isFraud\"],axis=1).columns\n",
        "\n",
        "X = transactions_df.drop('isFraud', axis=1)\n",
        "y = transactions_df['isFraud']"
      ],
      "execution_count": 0,
      "outputs": []
    },
    {
      "cell_type": "code",
      "metadata": {
        "id": "S3WG4nc2mX1u",
        "colab_type": "code",
        "outputId": "eedc2863-913d-48bb-bddb-80d740837f38",
        "colab": {
          "base_uri": "https://localhost:8080/",
          "height": 34
        }
      },
      "source": [
        "le = LabelEncoder()\n",
        "label_encoder = le.fit(y)\n",
        "y = label_encoder.transform(y)\n",
        "X_train, X_test, y_train, y_test = train_test_split(X, y, test_size=0.2,stratify=y)\n",
        "\n",
        "print(\"Training Size:\",X_train.shape,\"Testing Size:\",X_test.shape)"
      ],
      "execution_count": 646,
      "outputs": [
        {
          "output_type": "stream",
          "text": [
            "Training Size: (629090, 17) Testing Size: (157273, 17)\n"
          ],
          "name": "stdout"
        }
      ]
    },
    {
      "cell_type": "markdown",
      "metadata": {
        "id": "yYP2ahQq5NPD",
        "colab_type": "text"
      },
      "source": [
        "Undersampling Training data"
      ]
    },
    {
      "cell_type": "code",
      "metadata": {
        "id": "je_3UH1r5MsB",
        "colab_type": "code",
        "outputId": "443085e9-3d73-4ab6-a16d-7a9afc3a3e1a",
        "colab": {
          "base_uri": "https://localhost:8080/",
          "height": 34
        }
      },
      "source": [
        "rus = RandomUnderSampler(random_state=0)\n",
        "rus.fit(X, y)\n",
        "X_resampled, y_resampled = ros.fit_resample(X_train, y_train)\n",
        "\n",
        "print(\"Training Size After Random under sampling:\",X_resampled.shape)"
      ],
      "execution_count": 647,
      "outputs": [
        {
          "output_type": "stream",
          "text": [
            "Training Size After Random under sampling: (19868, 17)\n"
          ],
          "name": "stdout"
        }
      ]
    },
    {
      "cell_type": "code",
      "metadata": {
        "id": "pvd81h1kpUCd",
        "colab_type": "code",
        "outputId": "4386956c-311c-4392-cd0e-0e83fb51800f",
        "colab": {
          "base_uri": "https://localhost:8080/",
          "height": 338
        }
      },
      "source": [
        " numeric_transformer = Pipeline(steps=[('scaler', StandardScaler())])\n",
        " categorical_transformer = Pipeline(steps=[('woe', ce.OrdinalEncoder())])\n",
        " preprocessor = ColumnTransformer(transformers=[('cat', categorical_transformer, categorical_features),('num', numeric_transformer, numerical_features)])\n",
        "\n",
        " pipe = Pipeline(steps=[('preprocessor', preprocessor),('classifier', LogisticRegression())])\n",
        " parameters = {\"classifier\":[RandomForestClassifier(),SVC()]}\n",
        " grid_search = GridSearchCV(pipe, parameters, n_jobs=-1, verbose=1)\n",
        "#  model = pipe.fit(X_resampled, y_resampled)\n",
        "   \n",
        "#  y_pred = model.predict(X_test)\n",
        " grid_search.fit(X_resampled, y_resampled) \n",
        "# print(grid_search.get_params().keys())\n",
        "print(\"Best score: %0.3f\" % grid_search.best_score_)\n",
        "print(\"Best parameters set:\")\n",
        "best_parameters = grid_search.best_estimator_.get_params()\n",
        "for param_name in sorted(parameters.keys()):\n",
        "      print(\"\\t%s: %r\" % (param_name, best_parameters[param_name]))\n",
        "# #  print(classification_report(y_test, y_pred))\n",
        " "
      ],
      "execution_count": 653,
      "outputs": [
        {
          "output_type": "stream",
          "text": [
            "Fitting 5 folds for each of 2 candidates, totalling 10 fits\n"
          ],
          "name": "stdout"
        },
        {
          "output_type": "stream",
          "text": [
            "[Parallel(n_jobs=-1)]: Using backend LokyBackend with 4 concurrent workers.\n",
            "/usr/local/lib/python3.6/dist-packages/joblib/externals/loky/process_executor.py:706: UserWarning:\n",
            "\n",
            "A worker stopped while some jobs were given to the executor. This can be caused by a too short worker timeout or by a memory leak.\n",
            "\n",
            "[Parallel(n_jobs=-1)]: Done  10 out of  10 | elapsed:   55.4s finished\n"
          ],
          "name": "stderr"
        },
        {
          "output_type": "stream",
          "text": [
            "Best score: 0.711\n",
            "Best parameters set:\n",
            "\tclassifier: RandomForestClassifier(bootstrap=True, ccp_alpha=0.0, class_weight=None,\n",
            "                       criterion='gini', max_depth=None, max_features='auto',\n",
            "                       max_leaf_nodes=None, max_samples=None,\n",
            "                       min_impurity_decrease=0.0, min_impurity_split=None,\n",
            "                       min_samples_leaf=1, min_samples_split=2,\n",
            "                       min_weight_fraction_leaf=0.0, n_estimators=100,\n",
            "                       n_jobs=None, oob_score=False, random_state=None,\n",
            "                       verbose=0, warm_start=False)\n"
          ],
          "name": "stdout"
        }
      ]
    },
    {
      "cell_type": "code",
      "metadata": {
        "id": "Ezfp6via-h8r",
        "colab_type": "code",
        "outputId": "8265064d-a9ee-45e9-c3a2-4bf5eb45249a",
        "colab": {
          "base_uri": "https://localhost:8080/",
          "height": 573
        }
      },
      "source": [
        "# Plot non-normalized confusion matrix\n",
        "titles_options = [(\"Confusion matrix, without normalization\", None),\n",
        "                  (\"Normalized confusion matrix\", 'true')]\n",
        "for title, normalize in titles_options:\n",
        "    disp = plot_confusion_matrix(model, X_test, y_test,\n",
        "                                 display_labels=[\"normal\",\"fraud\"],\n",
        "                                 cmap=plt.cm.Blues,\n",
        "                                 normalize=normalize)\n",
        "    disp.ax_.set_title(title)\n",
        "\n",
        "    # print(title)\n",
        "    # print(disp.confusion_matrix)\n",
        "\n",
        "plt.show()"
      ],
      "execution_count": 614,
      "outputs": [
        {
          "output_type": "display_data",
          "data": {
            "image/png": "[encoded data removed]",
            "text/plain": [
              "<Figure size 432x288 with 2 Axes>"
            ]
          },
          "metadata": {
            "tags": []
          }
        },
        {
          "output_type": "display_data",
          "data": {
            "image/png": "[encoded data removed]",
            "text/plain": [
              "<Figure size 432x288 with 2 Axes>"
            ]
          },
          "metadata": {
            "tags": []
          }
        }
      ]
    },
    {
      "cell_type": "markdown",
      "metadata": {
        "id": "YTD-fU1J2HNB",
        "colab_type": "text"
      },
      "source": [
        "Feature Exploration: Let's check how data is distributed among normal and fraud transactions"
      ]
    },
    {
      "cell_type": "code",
      "metadata": {
        "id": "gf_3zZugYyc_",
        "colab_type": "code",
        "colab": {}
      },
      "source": [
        "f, axes = plt.subplots(1,2, figsize=(20, 6), sharex=False)\n",
        "sns.distplot(transactions_df[transactions_df['isFraud']==True][\"creditLimit\"],hist=True,kde=False,color=\"r\",label='Fraud',ax=axes[0])\n",
        "sns.distplot(transactions_df[transactions_df['isFraud']==False]['creditLimit'],hist=True,kde=False,color=\"b\",label='Normal',ax=axes[0])\n",
        "sns.distplot(transactions_df[transactions_df['isFraud']==False]['availableMoney'],hist=False,kde=True,color=\"b\",label='Normal',kde_kws={\"color\": \"b\", \"lw\": 3, \"label\": \"KDE\"},ax=axes[1])\n",
        "sns.distplot(transactions_df[transactions_df['isFraud']==True][\"availableMoney\"],hist=False,kde=True,color=\"r\",label='Fraud',kde_kws={\"color\": \"r\", \"lw\": 3, \"label\": \"KDE\"},ax=axes[1])\n",
        "plt.legend()\n",
        "plt.show()"
      ],
      "execution_count": 0,
      "outputs": []
    },
    {
      "cell_type": "code",
      "metadata": {
        "id": "2r30yIP8bZmu",
        "colab_type": "code",
        "colab": {}
      },
      "source": [
        "f, axes = plt.subplots(1,2, figsize=(20, 6), sharex=False)\n",
        "sns.distplot(transactions_df[transactions_df['isFraud']==True][\"transactionAmount\"],hist=False,kde=True,color=\"r\",label='Fraud',kde_kws={\"color\": \"r\", \"lw\": 3, \"label\": \"KDE\"},ax=axes[0])\n",
        "sns.distplot(transactions_df[transactions_df['isFraud']==False]['transactionAmount'],hist=False,kde=True,color=\"b\",label='Normal',kde_kws={\"color\": \"b\", \"lw\": 3, \"label\": \"KDE\"},ax=axes[0])\n",
        "sns.distplot(transactions_df[transactions_df['isFraud']==True][\"currentBalance\"],hist=False,kde=True,color=\"r\",label='Fraud',kde_kws={\"color\": \"r\", \"lw\": 3, \"label\": \"KDE\"},ax=axes[1])\n",
        "sns.distplot(transactions_df[transactions_df['isFraud']==False]['currentBalance'],hist=False,kde=True,color=\"b\",label='Normal',kde_kws={\"color\": \"b\", \"lw\": 3, \"label\": \"KDE\"},ax=axes[1])\n",
        "plt.legend()\n",
        "plt.show()"
      ],
      "execution_count": 0,
      "outputs": []
    },
    {
      "cell_type": "code",
      "metadata": {
        "id": "wq-VpTg6NMzd",
        "colab_type": "code",
        "colab": {}
      },
      "source": [
        "f, axes = plt.subplots(1,2, figsize=(15, 6), sharex=False)\n",
        "sns.countplot('merchantCountryCode', data = transactions_df,hue=\"isFraud\",ax=axes[0])\n",
        "sns.countplot('acqCountry', data = transactions_df,hue=\"isFraud\",ax=axes[1])\n",
        "plt.show()"
      ],
      "execution_count": 0,
      "outputs": []
    },
    {
      "cell_type": "code",
      "metadata": {
        "id": "8Y0RXD9nO5rl",
        "colab_type": "code",
        "colab": {}
      },
      "source": [
        "f, axes = plt.subplots(1,2, figsize=(15, 6), sharex=False)\n",
        "sns.countplot('posEntryMode', data = transactions_df,hue=\"isFraud\",ax=axes[0])\n",
        "sns.countplot('posConditionCode', data = transactions_df,hue=\"isFraud\",ax=axes[1])\n",
        "plt.show()"
      ],
      "execution_count": 0,
      "outputs": []
    },
    {
      "cell_type": "markdown",
      "metadata": {
        "id": "QPRixlJm0vxc",
        "colab_type": "text"
      },
      "source": [
        "Merchant Category could be interesting to explore as to see its distribution over normal and fraud transaction"
      ]
    },
    {
      "cell_type": "code",
      "metadata": {
        "id": "gG07NusmN7L6",
        "colab_type": "code",
        "colab": {}
      },
      "source": [
        "grp_by_merc_code = transactions_df.groupby(by=[\"merchantCategoryCode\",\"isFraud\"])[\"accountNumber\"].count().reset_index()\n",
        "grp_by_merc_code['Fraud percentage'] = grp_by_merc_code[\"accountNumber\"]*100 / grp_by_merc_code.groupby(\"merchantCategoryCode\")[\"accountNumber\"].transform(\"sum\")\n",
        "a4_dims = (15, 6)\n",
        "fig, ax = plt.subplots(figsize=a4_dims)\n",
        "plt.xticks(rotation=45)\n",
        "sns.barplot('merchantCategoryCode', 'Fraud percentage',hue = 'isFraud', data = grp_by_merc_code)\n",
        "plt.show()"
      ],
      "execution_count": 0,
      "outputs": []
    },
    {
      "cell_type": "code",
      "metadata": {
        "id": "yMMIgO_9Z8sY",
        "colab_type": "code",
        "colab": {}
      },
      "source": [
        "f, axes = plt.subplots(1,2, figsize=(15, 6), sharex=False)\n",
        "sns.countplot('transactionType', data = transactions_df,hue=\"isFraud\",ax=axes[0])\n",
        "sns.countplot('cardPresent', data = transactions_df,hue=\"isFraud\",ax=axes[1])\n",
        "plt.show()"
      ],
      "execution_count": 0,
      "outputs": []
    },
    {
      "cell_type": "code",
      "metadata": {
        "id": "j8dfrjWLhTYQ",
        "colab_type": "code",
        "colab": {}
      },
      "source": [
        "f, axes = plt.subplots(1,2, figsize=(15, 6), sharex=False)\n",
        "sns.countplot('expirationDateKeyInMatch', data = transactions_df,hue=\"isFraud\",ax=axes[0])\n",
        "sns.countplot('isDuplicate', data = transactions_df,hue=\"isFraud\",ax=axes[1])\n",
        "plt.show()"
      ],
      "execution_count": 0,
      "outputs": []
    },
    {
      "cell_type": "code",
      "metadata": {
        "id": "PAp2Htemf-ll",
        "colab_type": "code",
        "colab": {}
      },
      "source": [
        "f, axes = plt.subplots(1,3, figsize=(20, 6), sharex=True)\n",
        "ax = sns.boxplot(x=\"isFraud\", y=\"availableMoney\", data=transactions_df,ax =axes[0])\n",
        "ax = sns.boxplot(x=\"isFraud\", y=\"transactionAmount\", data=transactions_df,ax =axes[2])\n",
        "ax = sns.boxplot(x=\"isFraud\", y=\"currentBalance\", data=transactions_df,ax =axes[1])"
      ],
      "execution_count": 0,
      "outputs": []
    },
    {
      "cell_type": "code",
      "metadata": {
        "id": "0BdNn5L8irem",
        "colab_type": "code",
        "colab": {}
      },
      "source": [
        "f, axes = plt.subplots(1,2, figsize=(20, 6), sharex=True)\n",
        "sns.distplot(transactions_df[transactions_df['isFraud']==True][\"diff_address_transactions\"],hist=False,kde=True,color=\"r\",label='Fraud',kde_kws={\"color\": \"r\", \"lw\": 3, \"label\": \"KDE\"},ax=axes[0])\n",
        "sns.distplot(transactions_df[transactions_df['isFraud']==False]['diff_address_transactions'],hist=False,kde=True,color=\"b\",label='Normal',kde_kws={\"color\": \"b\", \"lw\": 3, \"label\": \"KDE\"},ax=axes[0])\n",
        "sns.distplot(transactions_df[transactions_df['isFraud']==True][\"diff_accountopen_transactions\"],hist=False,kde=True,color=\"r\",label='Fraud',kde_kws={\"color\": \"r\", \"lw\": 3, \"label\": \"KDE\"},ax=axes[1])\n",
        "sns.distplot(transactions_df[transactions_df['isFraud']==False]['diff_accountopen_transactions'],hist=False,kde=True,color=\"b\",label='Normal',kde_kws={\"color\": \"b\", \"lw\": 3, \"label\": \"KDE\"},ax=axes[1])\n",
        "plt.legend()\n",
        "plt.show()"
      ],
      "execution_count": 0,
      "outputs": []
    },
    {
      "cell_type": "markdown",
      "metadata": {
        "id": "AkV0AmpIxD2l",
        "colab_type": "text"
      },
      "source": [
        "After analyzing distribution of dateOfLastAddressChange and accountOpenDate w.r.t transactionDate, we can say that more number of fraudulent transaction have recently changed address where account opening date has little co-relation with fraudulent transactions.\n"
      ]
    },
    {
      "cell_type": "code",
      "metadata": {
        "id": "PGUK238Sk0B2",
        "colab_type": "code",
        "colab": {}
      },
      "source": [
        "transactions_df.head()"
      ],
      "execution_count": 0,
      "outputs": []
    },
    {
      "cell_type": "markdown",
      "metadata": {
        "id": "AHhTUhvQ9GXJ",
        "colab_type": "text"
      },
      "source": [
        ""
      ]
    },
    {
      "cell_type": "code",
      "metadata": {
        "id": "OCinBtjW8JkM",
        "colab_type": "code",
        "colab": {}
      },
      "source": [
        ""
      ],
      "execution_count": 0,
      "outputs": []
    }
  ]
}