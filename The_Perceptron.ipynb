{
  "nbformat": 4,
  "nbformat_minor": 0,
  "metadata": {
    "colab": {
      "name": "The Perceptron.ipynb",
      "provenance": [],
      "authorship_tag": "ABX9TyPfUg3AQmCYsbgE2ZkhSFNA",
      "include_colab_link": true
    },
    "kernelspec": {
      "name": "python3",
      "display_name": "Python 3"
    }
  },
  "cells": [
    {
      "cell_type": "markdown",
      "metadata": {
        "id": "view-in-github",
        "colab_type": "text"
      },
      "source": [
        "<a href=\"https://colab.research.google.com/github/analystanand/Machine-Learning/blob/master/The_Perceptron.ipynb\" target=\"_parent\"><img src=\"https://colab.research.google.com/assets/colab-badge.svg\" alt=\"Open In Colab\"/></a>"
      ]
    },
    {
      "cell_type": "code",
      "metadata": {
        "id": "7R65Rq3ypkc-",
        "colab_type": "code",
        "colab": {}
      },
      "source": [
        "import numpy as np\n",
        "import matplotlib.pyplot as plt"
      ],
      "execution_count": 0,
      "outputs": []
    },
    {
      "cell_type": "markdown",
      "metadata": {
        "id": "J2GJoSEzbS4I",
        "colab_type": "text"
      },
      "source": [
        "## OR gate and Initial Weighs(w) and Bias(b)"
      ]
    },
    {
      "cell_type": "code",
      "metadata": {
        "id": "IHH1VNJPlPYC",
        "colab_type": "code",
        "colab": {
          "base_uri": "https://localhost:8080/",
          "height": 34
        },
        "outputId": "51b3f95c-40b0-4bf8-912d-0e760c34000b"
      },
      "source": [
        "x1 = np.array([0,1,0,1])\n",
        "x2 = np.array([0,0,1,1])\n",
        "y =  np.array([-1,1,1,1])\n",
        "# w = np.array([0,0])\n",
        "# b = np.array([0])\n",
        "w = np.random.rand(2)\n",
        "b = np.random.rand(1)\n",
        "print(w,b)"
      ],
      "execution_count": 1223,
      "outputs": [
        {
          "output_type": "stream",
          "text": [
            "[0.22945781 0.49009864] [0.10041674]\n"
          ],
          "name": "stdout"
        }
      ]
    },
    {
      "cell_type": "code",
      "metadata": {
        "id": "fUTHG3MXgKTf",
        "colab_type": "code",
        "colab": {
          "base_uri": "https://localhost:8080/",
          "height": 427
        },
        "outputId": "ff40e239-3fd2-417a-ca2c-77dfadc9fa15"
      },
      "source": [
        "x_ = np.linspace(-5,5,100)\n",
        "y_ = -(w[0]*x+b )/w[1]\n",
        "plt.figure(figsize=(8,6))\n",
        "plt.xlim(-5, 8)\n",
        "plt.ylim(-5, 8)\n",
        "plt.plot(x_, y_, '-r')\n",
        "plt.plot(x1[1:],x2[1:],\"bo\")\n",
        "plt.plot(x1[0],x2[0],\"ro\")\n",
        "plt.title(\"OR Gate | Random Weights\",fontsize=24)\n",
        "plt.ylabel('x2',fontsize=24)\n",
        "plt.xlabel('x1',fontsize=24)\n",
        "plt.show()"
      ],
      "execution_count": 1224,
      "outputs": [
        {
          "output_type": "display_data",
          "data": {
            "image/png": "[encoded data removed]",
            "text/plain": [
              "<Figure size 576x432 with 1 Axes>"
            ]
          },
          "metadata": {
            "tags": []
          }
        }
      ]
    },
    {
      "cell_type": "markdown",
      "metadata": {
        "id": "oaXaJ0WSbtAJ",
        "colab_type": "text"
      },
      "source": [
        "## Initial Predictions for Each Example"
      ]
    },
    {
      "cell_type": "code",
      "metadata": {
        "id": "TkhvYZ1H3wrh",
        "colab_type": "code",
        "colab": {
          "base_uri": "https://localhost:8080/",
          "height": 34
        },
        "outputId": "692e79bd-00e8-43bb-d16e-f7ee2fe78c8d"
      },
      "source": [
        "z  = []\n",
        "for i in range(4):\n",
        "  z.append(w[0]*x1[j] + w[1]*x2[j] +b[0])\n",
        "g_z = [1  if k>=0  else -1 for k in z] \n",
        "print(z,g_z)"
      ],
      "execution_count": 1225,
      "outputs": [
        {
          "output_type": "stream",
          "text": [
            "[0.81997318136048, 0.81997318136048, 0.81997318136048, 0.81997318136048] [1, 1, 1, 1]\n"
          ],
          "name": "stdout"
        }
      ]
    },
    {
      "cell_type": "markdown",
      "metadata": {
        "id": "LVNYTTd7eLQt",
        "colab_type": "text"
      },
      "source": [
        "## No. of Iteration is **Hyperparameter**"
      ]
    },
    {
      "cell_type": "code",
      "metadata": {
        "id": "QV7WYBT9lo_q",
        "colab_type": "code",
        "colab": {}
      },
      "source": [
        "max_iter = 5"
      ],
      "execution_count": 0,
      "outputs": []
    },
    {
      "cell_type": "markdown",
      "metadata": {
        "id": "JwhmD4LBfFNF",
        "colab_type": "text"
      },
      "source": [
        "### Online Update After Each Example (0/1 Loss Function)"
      ]
    },
    {
      "cell_type": "code",
      "metadata": {
        "id": "Ds9O2Fo5o488",
        "colab_type": "code",
        "colab": {
          "base_uri": "https://localhost:8080/",
          "height": 34
        },
        "outputId": "f6051fd2-df22-4192-ab75-bac6708cc69d"
      },
      "source": [
        "for i in range(max_iter):\n",
        "  for j in range(x1.shape[0]):\n",
        "       a = w[0]*x1[j] + w[1]*x2[j] +b[0]\n",
        "      #  print(a)\n",
        "       if y[j]*a <=0:\n",
        "          w[0] = w[0] + y[j]*x1[j]\n",
        "          w[1] = w[1] + y[j]*x2[j]\n",
        "          b = b + y[j]\n",
        "print(w,b)"
      ],
      "execution_count": 1227,
      "outputs": [
        {
          "output_type": "stream",
          "text": [
            "[1.22945781 1.49009864] [-0.89958326]\n"
          ],
          "name": "stdout"
        }
      ]
    },
    {
      "cell_type": "markdown",
      "metadata": {
        "id": "e2iRZZTodjtg",
        "colab_type": "text"
      },
      "source": [
        "## Prediction With Updated Weights"
      ]
    },
    {
      "cell_type": "code",
      "metadata": {
        "id": "-0cs7TyUdi0K",
        "colab_type": "code",
        "colab": {
          "base_uri": "https://localhost:8080/",
          "height": 34
        },
        "outputId": "7f761b95-ff00-47c2-a949-abeb7200b010"
      },
      "source": [
        "z  = []\n",
        "for i in range(4):\n",
        "  z.append(w[0]*x1[j] + w[1]*x2[j] +b[0])\n",
        "g_z = [1  if k>=0  else -1 for k in z] \n",
        "print(z,g_z)"
      ],
      "execution_count": 1228,
      "outputs": [
        {
          "output_type": "stream",
          "text": [
            "[1.8199731813604798, 1.8199731813604798, 1.8199731813604798, 1.8199731813604798] [1, 1, 1, 1]\n"
          ],
          "name": "stdout"
        }
      ]
    },
    {
      "cell_type": "code",
      "metadata": {
        "id": "QBZlOBeIwnJN",
        "colab_type": "code",
        "colab": {}
      },
      "source": [
        ""
      ],
      "execution_count": 0,
      "outputs": []
    },
    {
      "cell_type": "code",
      "metadata": {
        "id": "ZKwytf87qMka",
        "colab_type": "code",
        "colab": {
          "base_uri": "https://localhost:8080/",
          "height": 427
        },
        "outputId": "a4407261-8569-4ed1-acf7-218660f85a1e"
      },
      "source": [
        "x = np.linspace(-5,5,100)\n",
        "y = -(w[0]*x+b )/w[1]\n",
        "\n",
        "plt.figure(figsize=(8,6))\n",
        "plt.plot(x, y, '-r')\n",
        "plt.xlim(-5, 8)\n",
        "plt.ylim(-5, 8)\n",
        "plt.plot(x1[1:],x2[1:],\"bo\")\n",
        "plt.plot(x1[0],x2[0],\"ro\")\n",
        "plt.title(\"OR Gate | After Training\",fontsize=24)\n",
        "plt.ylabel('x2',fontsize=24)\n",
        "plt.xlabel('x1',fontsize=24)\n",
        "plt.show()"
      ],
      "execution_count": 1229,
      "outputs": [
        {
          "output_type": "display_data",
          "data": {
            "image/png": "[encoded data removed]",
            "text/plain": [
              "<Figure size 576x432 with 1 Axes>"
            ]
          },
          "metadata": {
            "tags": []
          }
        }
      ]
    }
  ]
}